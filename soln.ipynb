{
  "cells": [
    {
      "cell_type": "code",
      "execution_count": 1,
      "id": "cb22ce7f",
      "metadata": {
        "_cell_guid": "b1076dfc-b9ad-4769-8c92-a6c4dae69d19",
        "_uuid": "8f2839f25d086af736a60e9eeb907d3b93b6e0e5",
        "execution": {
          "iopub.execute_input": "2024-05-05T13:21:02.170097Z",
          "iopub.status.busy": "2024-05-05T13:21:02.169318Z",
          "iopub.status.idle": "2024-05-05T13:21:03.266417Z",
          "shell.execute_reply": "2024-05-05T13:21:03.264550Z"
        },
        "id": "cb22ce7f",
        "papermill": {
          "duration": 1.11585,
          "end_time": "2024-05-05T13:21:03.270017",
          "exception": false,
          "start_time": "2024-05-05T13:21:02.154167",
          "status": "completed"
        },
        "tags": []
      },
      "outputs": [],
      "source": [
        "import numpy as np\n",
        "import pandas as pd\n",
        "import os"
      ]
    },
    {
      "cell_type": "code",
      "execution_count": 2,
      "id": "298961a7",
      "metadata": {
        "execution": {
          "iopub.execute_input": "2024-05-05T13:21:03.299467Z",
          "iopub.status.busy": "2024-05-05T13:21:03.297879Z",
          "iopub.status.idle": "2024-05-05T13:21:03.304342Z",
          "shell.execute_reply": "2024-05-05T13:21:03.303232Z"
        },
        "id": "298961a7",
        "papermill": {
          "duration": 0.023599,
          "end_time": "2024-05-05T13:21:03.307080",
          "exception": false,
          "start_time": "2024-05-05T13:21:03.283481",
          "status": "completed"
        },
        "tags": []
      },
      "outputs": [],
      "source": [
        "path_fake_data = \"Fake.csv\"\n",
        "path_true_data = \"True.csv\""
      ]
    },
    {
      "cell_type": "code",
      "execution_count": 3,
      "id": "6144fbc9",
      "metadata": {
        "execution": {
          "iopub.execute_input": "2024-05-05T13:21:03.334480Z",
          "iopub.status.busy": "2024-05-05T13:21:03.333985Z",
          "iopub.status.idle": "2024-05-05T13:21:06.461872Z",
          "shell.execute_reply": "2024-05-05T13:21:06.460515Z"
        },
        "id": "6144fbc9",
        "papermill": {
          "duration": 3.145485,
          "end_time": "2024-05-05T13:21:06.465094",
          "exception": false,
          "start_time": "2024-05-05T13:21:03.319609",
          "status": "completed"
        },
        "tags": []
      },
      "outputs": [],
      "source": [
        "fake_news = pd.read_csv(path_fake_data)\n",
        "true_news = pd.read_csv(path_true_data)"
      ]
    },
    {
      "cell_type": "code",
      "execution_count": 4,
      "id": "dd98813f",
      "metadata": {
        "colab": {
          "base_uri": "https://localhost:8080/",
          "height": 206
        },
        "execution": {
          "iopub.execute_input": "2024-05-05T13:21:06.496526Z",
          "iopub.status.busy": "2024-05-05T13:21:06.495167Z",
          "iopub.status.idle": "2024-05-05T13:21:06.523304Z",
          "shell.execute_reply": "2024-05-05T13:21:06.521941Z"
        },
        "id": "dd98813f",
        "outputId": "ae380a8b-449b-4b59-9df6-8ec8a933037b",
        "papermill": {
          "duration": 0.046465,
          "end_time": "2024-05-05T13:21:06.526109",
          "exception": false,
          "start_time": "2024-05-05T13:21:06.479644",
          "status": "completed"
        },
        "tags": []
      },
      "outputs": [
        {
          "data": {
            "application/vnd.google.colaboratory.intrinsic+json": {
              "summary": "{\n  \"name\": \"fake_news\",\n  \"rows\": 23481,\n  \"fields\": [\n    {\n      \"column\": \"title\",\n      \"properties\": {\n        \"dtype\": \"string\",\n        \"num_unique_values\": 17903,\n        \"samples\": [\n          \" Fox News Mocked Into Oblivion After This F*cking STUPID Attempt To Make Steve Bannon Look Sane (TWEETS)\",\n          \"BREAKING: FL GOV RICK SCOTT Calls for FBI Director to Resign\",\n          \" WATCH: Mike Pence\\u2019s Photo Op With Puerto Rico Survivors Just Went TERRIBLY Wrong (VIDEO)\"\n        ],\n        \"semantic_type\": \"\",\n        \"description\": \"\"\n      }\n    },\n    {\n      \"column\": \"text\",\n      \"properties\": {\n        \"dtype\": \"string\",\n        \"num_unique_values\": 17455,\n        \"samples\": [\n          \"The moral decay continues The Kapiolani Medical Center for Women and Children at the University of Hawaii is currently recruiting pregnant girls and women to participate in second-trimester abortions to measure their bleeding during the operation, with and without antihemorrhagic drugs. According to the Clinical Trials website, run by the National Institutes of Health, participants must be at least 14 years old and 18-24 weeks pregnant.The controversial study, led by Bliss Kaneshiro, MD and Kate Whitehouse, DO, will monitor bleeding during D&E abortions to determine the effects of the drug oxytocin, commonly used to minimize blood loss and decrease the risk of hemorrhage.The clinical trial, called  Effects of Oxytocin on Bleeding Outcomes during Dilation and Evacuation  began in October 2014 and is a collaboration between UH, Society of Family Planning and the University of Washington.The Society of Family Planning funds a number of similar research projects, such as experimenting with the dosage of Misoprostol, a uterine contracting agent, prior to surgical abortions at 13-18 weeks and exploring umbilical cord injections to produce fetal death prior to late-term abortions.In the UH study, researchers will carry out a  randomized, double-blinded, placebo-controlled trials,  to determine the effect of oxytocin s use on uterine bleeding, meaning that they will either provide or deny intravenous oxytocin to the women.Reports suggest that some doctors are concerned that withholding oxytocin during surgery may put patients, especially teen girls, at risk. This study is reminiscent of Nazi concentration camp experiments. I pity the poor women who are being treated like lab rats, especially those who are denied the drug to reduce hemorrhaging,  said Troy Newman, President of Operation Rescue.Dilation and evacuation abortions are surgical procedures that involve dismembering the pre-born baby with forceps, scraping the inside of the uterus with a curette to remove any residuals and finally suctioning out the womb to make sure the contents are completely removed.After the abortion, the corpse of the fetus is reassembled and examined to ensure everything was successfully removed and that the abortion was complete.The study is hoping to attract up to 166 test subjects and is expected to conclude in July 2015.Via: Breitbart News\",\n          \"CNN was quick to scoop up Corey Lewandowski after Donald Trump kicked him out of his role as campaign manager, but his first week on the job is going pretty much exactly how you would expect it to go   terribly.Not only has Lewandowski proven himself to be pretty much like a paid spokesman for Trump, but his defense of the disgraced GOP candidate isn t being received well. Earlier this week, Lewandowski revealed that he was under contract and couldn t criticize The Donald, even after being fired from the campaign. Today, Lewandowski got called out by Hillary Clinton surrogate Christine Quinn for hyping Trump up to be an expert on the Brexit decision   a suggestion that was clearly false.On Monday s edition of CNN s New Day, Lewandowski made another pathetic defense of Trump by trying to reframe the candidate s disgusting reaction to Brexit, where he mostly spoke about how much the decision would be good for his Scotland golf resort. Lewandowski s defense was: Obviously the U.S. dollar has become much stronger now against the British pound. If you re going to spend money in Europe, now would actually be a good time to go with the fall of the pound.What you have is a world view, so what you have is someone who is saying,  Let s look at this from the U.S. perspective. If you want to go and travel overseas   just from a monetary perspective   now is the right time to do that because what you re getting is more for your dollar. Quinn wasn t having it. She ripped into Lewandowski, firing back, Donald Trump is not running to be travel agent of the world, he s running to be president of the United States.  She continued: What he said wasn t a commentary on international markets, it was,  When the pound goes down, more people will come to my golf course. Donald Trump s main concern isn t the international markets, it isn t the impact that Brexit will have on hard working Americans  401Ks, it s himself. How can he make more money, how can he put more money in his bank account? Lewandowski compared the Brexit decision to Trump s rise in the GOP, and Quinn once again called him out and put him back in his place. She said: Trump touted that he saw this coming. That s ridiculous because when he was first asked about Brexit by the press, he didn t appear to know what it was. Lewandowski tried to counter by insisting that People are too smart, they are tired of being told what to do.  He then tried to commend Trump for being a selfish moron: You know what Donald Trump said about Brexit? What he said was, you don t have to listen to me because it s not my decision. He didn t weigh in like Hillary Clinton did, like Barack Obama did, saying that you can t do this. Quinn fought back, Because he didn t know what it was. Lewandowski was fighting a losing battle. Trump s reaction to Brexit was just as terrifying as it was humorous   it truly proved that Trump knows nothing about foreign affairs, and hasn t spent any time educating himself since the beginning of his presidential candidacy. If only some of the hours he spent getting into fights on Twitter were being used for learning about how the world works. But instead, he once again exposed himself as an unfit choice for President. And when people like Lewandowski try to make sense of his idiocy, they only make themselves look equally foolish.You can watch the embarrassing video below:Featured image via screen capture\",\n          \"A Michigan woman decided to defend against tyranny? when she and another shopper couldn t agree over who got to buy the last notebook on the shelf at the Novi Towne Center store.According to ABC 13, the brawl   yes, brawl    involved two Farmington Hills residents, ages 46 and 32, and a mother and daughter from South Lyon, ages 51 and 20. In other words, these were all grown adults who should have known better but hey   there was only one notebook on the shelf, and we ve all seen what happens in those post-apocalyptic movies when a store is down to the last gallon of milk, right?Two of the women, one of whom was the unnamed 20-year-old, reached for the notebook at the same time. The 46 and 32-year-olds apparently decided that she wasn t getting their goddamn notebook and began pulling her hair.Then, because this had almost hit peak  trailer park,  the 20-year-old s mother decided to go for bonus points by pulling out her gun. Fortunately, someone pushed her aside before she could do any harm.This is one of the NRA s  responsible gun owners  (conservatives can t dismiss this one, as it is confirmed that she is a concealed carry permit holder)   ready to leap into action at the most minor sign of danger and make things worse by turning the situation potentially deadly.Watch it happen below:Featured image via screengrab\"\n        ],\n        \"semantic_type\": \"\",\n        \"description\": \"\"\n      }\n    },\n    {\n      \"column\": \"subject\",\n      \"properties\": {\n        \"dtype\": \"category\",\n        \"num_unique_values\": 6,\n        \"samples\": [\n          \"News\",\n          \"politics\",\n          \"Middle-east\"\n        ],\n        \"semantic_type\": \"\",\n        \"description\": \"\"\n      }\n    },\n    {\n      \"column\": \"date\",\n      \"properties\": {\n        \"dtype\": \"category\",\n        \"num_unique_values\": 1681,\n        \"samples\": [\n          \"Jun 5, 2015\",\n          \"August 28, 2016\",\n          \"June 3, 2017\"\n        ],\n        \"semantic_type\": \"\",\n        \"description\": \"\"\n      }\n    }\n  ]\n}",
              "type": "dataframe",
              "variable_name": "fake_news"
            },
            "text/html": [
              "\n",
              "  <div id=\"df-f55dc0b5-ab21-490d-9a2f-7ec0de200fc8\" class=\"colab-df-container\">\n",
              "    <div>\n",
              "<style scoped>\n",
              "    .dataframe tbody tr th:only-of-type {\n",
              "        vertical-align: middle;\n",
              "    }\n",
              "\n",
              "    .dataframe tbody tr th {\n",
              "        vertical-align: top;\n",
              "    }\n",
              "\n",
              "    .dataframe thead th {\n",
              "        text-align: right;\n",
              "    }\n",
              "</style>\n",
              "<table border=\"1\" class=\"dataframe\">\n",
              "  <thead>\n",
              "    <tr style=\"text-align: right;\">\n",
              "      <th></th>\n",
              "      <th>title</th>\n",
              "      <th>text</th>\n",
              "      <th>subject</th>\n",
              "      <th>date</th>\n",
              "    </tr>\n",
              "  </thead>\n",
              "  <tbody>\n",
              "    <tr>\n",
              "      <th>0</th>\n",
              "      <td>Donald Trump Sends Out Embarrassing New Year’...</td>\n",
              "      <td>Donald Trump just couldn t wish all Americans ...</td>\n",
              "      <td>News</td>\n",
              "      <td>December 31, 2017</td>\n",
              "    </tr>\n",
              "    <tr>\n",
              "      <th>1</th>\n",
              "      <td>Drunk Bragging Trump Staffer Started Russian ...</td>\n",
              "      <td>House Intelligence Committee Chairman Devin Nu...</td>\n",
              "      <td>News</td>\n",
              "      <td>December 31, 2017</td>\n",
              "    </tr>\n",
              "    <tr>\n",
              "      <th>2</th>\n",
              "      <td>Sheriff David Clarke Becomes An Internet Joke...</td>\n",
              "      <td>On Friday, it was revealed that former Milwauk...</td>\n",
              "      <td>News</td>\n",
              "      <td>December 30, 2017</td>\n",
              "    </tr>\n",
              "    <tr>\n",
              "      <th>3</th>\n",
              "      <td>Trump Is So Obsessed He Even Has Obama’s Name...</td>\n",
              "      <td>On Christmas day, Donald Trump announced that ...</td>\n",
              "      <td>News</td>\n",
              "      <td>December 29, 2017</td>\n",
              "    </tr>\n",
              "    <tr>\n",
              "      <th>4</th>\n",
              "      <td>Pope Francis Just Called Out Donald Trump Dur...</td>\n",
              "      <td>Pope Francis used his annual Christmas Day mes...</td>\n",
              "      <td>News</td>\n",
              "      <td>December 25, 2017</td>\n",
              "    </tr>\n",
              "  </tbody>\n",
              "</table>\n",
              "</div>\n",
              "    <div class=\"colab-df-buttons\">\n",
              "\n",
              "  <div class=\"colab-df-container\">\n",
              "    <button class=\"colab-df-convert\" onclick=\"convertToInteractive('df-f55dc0b5-ab21-490d-9a2f-7ec0de200fc8')\"\n",
              "            title=\"Convert this dataframe to an interactive table.\"\n",
              "            style=\"display:none;\">\n",
              "\n",
              "  <svg xmlns=\"http://www.w3.org/2000/svg\" height=\"24px\" viewBox=\"0 -960 960 960\">\n",
              "    <path d=\"M120-120v-720h720v720H120Zm60-500h600v-160H180v160Zm220 220h160v-160H400v160Zm0 220h160v-160H400v160ZM180-400h160v-160H180v160Zm440 0h160v-160H620v160ZM180-180h160v-160H180v160Zm440 0h160v-160H620v160Z\"/>\n",
              "  </svg>\n",
              "    </button>\n",
              "\n",
              "  <style>\n",
              "    .colab-df-container {\n",
              "      display:flex;\n",
              "      gap: 12px;\n",
              "    }\n",
              "\n",
              "    .colab-df-convert {\n",
              "      background-color: #E8F0FE;\n",
              "      border: none;\n",
              "      border-radius: 50%;\n",
              "      cursor: pointer;\n",
              "      display: none;\n",
              "      fill: #1967D2;\n",
              "      height: 32px;\n",
              "      padding: 0 0 0 0;\n",
              "      width: 32px;\n",
              "    }\n",
              "\n",
              "    .colab-df-convert:hover {\n",
              "      background-color: #E2EBFA;\n",
              "      box-shadow: 0px 1px 2px rgba(60, 64, 67, 0.3), 0px 1px 3px 1px rgba(60, 64, 67, 0.15);\n",
              "      fill: #174EA6;\n",
              "    }\n",
              "\n",
              "    .colab-df-buttons div {\n",
              "      margin-bottom: 4px;\n",
              "    }\n",
              "\n",
              "    [theme=dark] .colab-df-convert {\n",
              "      background-color: #3B4455;\n",
              "      fill: #D2E3FC;\n",
              "    }\n",
              "\n",
              "    [theme=dark] .colab-df-convert:hover {\n",
              "      background-color: #434B5C;\n",
              "      box-shadow: 0px 1px 3px 1px rgba(0, 0, 0, 0.15);\n",
              "      filter: drop-shadow(0px 1px 2px rgba(0, 0, 0, 0.3));\n",
              "      fill: #FFFFFF;\n",
              "    }\n",
              "  </style>\n",
              "\n",
              "    <script>\n",
              "      const buttonEl =\n",
              "        document.querySelector('#df-f55dc0b5-ab21-490d-9a2f-7ec0de200fc8 button.colab-df-convert');\n",
              "      buttonEl.style.display =\n",
              "        google.colab.kernel.accessAllowed ? 'block' : 'none';\n",
              "\n",
              "      async function convertToInteractive(key) {\n",
              "        const element = document.querySelector('#df-f55dc0b5-ab21-490d-9a2f-7ec0de200fc8');\n",
              "        const dataTable =\n",
              "          await google.colab.kernel.invokeFunction('convertToInteractive',\n",
              "                                                    [key], {});\n",
              "        if (!dataTable) return;\n",
              "\n",
              "        const docLinkHtml = 'Like what you see? Visit the ' +\n",
              "          '<a target=\"_blank\" href=https://colab.research.google.com/notebooks/data_table.ipynb>data table notebook</a>'\n",
              "          + ' to learn more about interactive tables.';\n",
              "        element.innerHTML = '';\n",
              "        dataTable['output_type'] = 'display_data';\n",
              "        await google.colab.output.renderOutput(dataTable, element);\n",
              "        const docLink = document.createElement('div');\n",
              "        docLink.innerHTML = docLinkHtml;\n",
              "        element.appendChild(docLink);\n",
              "      }\n",
              "    </script>\n",
              "  </div>\n",
              "\n",
              "\n",
              "<div id=\"df-00288a4b-b147-4a4e-9a7b-934f9ef5eadd\">\n",
              "  <button class=\"colab-df-quickchart\" onclick=\"quickchart('df-00288a4b-b147-4a4e-9a7b-934f9ef5eadd')\"\n",
              "            title=\"Suggest charts\"\n",
              "            style=\"display:none;\">\n",
              "\n",
              "<svg xmlns=\"http://www.w3.org/2000/svg\" height=\"24px\"viewBox=\"0 0 24 24\"\n",
              "     width=\"24px\">\n",
              "    <g>\n",
              "        <path d=\"M19 3H5c-1.1 0-2 .9-2 2v14c0 1.1.9 2 2 2h14c1.1 0 2-.9 2-2V5c0-1.1-.9-2-2-2zM9 17H7v-7h2v7zm4 0h-2V7h2v10zm4 0h-2v-4h2v4z\"/>\n",
              "    </g>\n",
              "</svg>\n",
              "  </button>\n",
              "\n",
              "<style>\n",
              "  .colab-df-quickchart {\n",
              "      --bg-color: #E8F0FE;\n",
              "      --fill-color: #1967D2;\n",
              "      --hover-bg-color: #E2EBFA;\n",
              "      --hover-fill-color: #174EA6;\n",
              "      --disabled-fill-color: #AAA;\n",
              "      --disabled-bg-color: #DDD;\n",
              "  }\n",
              "\n",
              "  [theme=dark] .colab-df-quickchart {\n",
              "      --bg-color: #3B4455;\n",
              "      --fill-color: #D2E3FC;\n",
              "      --hover-bg-color: #434B5C;\n",
              "      --hover-fill-color: #FFFFFF;\n",
              "      --disabled-bg-color: #3B4455;\n",
              "      --disabled-fill-color: #666;\n",
              "  }\n",
              "\n",
              "  .colab-df-quickchart {\n",
              "    background-color: var(--bg-color);\n",
              "    border: none;\n",
              "    border-radius: 50%;\n",
              "    cursor: pointer;\n",
              "    display: none;\n",
              "    fill: var(--fill-color);\n",
              "    height: 32px;\n",
              "    padding: 0;\n",
              "    width: 32px;\n",
              "  }\n",
              "\n",
              "  .colab-df-quickchart:hover {\n",
              "    background-color: var(--hover-bg-color);\n",
              "    box-shadow: 0 1px 2px rgba(60, 64, 67, 0.3), 0 1px 3px 1px rgba(60, 64, 67, 0.15);\n",
              "    fill: var(--button-hover-fill-color);\n",
              "  }\n",
              "\n",
              "  .colab-df-quickchart-complete:disabled,\n",
              "  .colab-df-quickchart-complete:disabled:hover {\n",
              "    background-color: var(--disabled-bg-color);\n",
              "    fill: var(--disabled-fill-color);\n",
              "    box-shadow: none;\n",
              "  }\n",
              "\n",
              "  .colab-df-spinner {\n",
              "    border: 2px solid var(--fill-color);\n",
              "    border-color: transparent;\n",
              "    border-bottom-color: var(--fill-color);\n",
              "    animation:\n",
              "      spin 1s steps(1) infinite;\n",
              "  }\n",
              "\n",
              "  @keyframes spin {\n",
              "    0% {\n",
              "      border-color: transparent;\n",
              "      border-bottom-color: var(--fill-color);\n",
              "      border-left-color: var(--fill-color);\n",
              "    }\n",
              "    20% {\n",
              "      border-color: transparent;\n",
              "      border-left-color: var(--fill-color);\n",
              "      border-top-color: var(--fill-color);\n",
              "    }\n",
              "    30% {\n",
              "      border-color: transparent;\n",
              "      border-left-color: var(--fill-color);\n",
              "      border-top-color: var(--fill-color);\n",
              "      border-right-color: var(--fill-color);\n",
              "    }\n",
              "    40% {\n",
              "      border-color: transparent;\n",
              "      border-right-color: var(--fill-color);\n",
              "      border-top-color: var(--fill-color);\n",
              "    }\n",
              "    60% {\n",
              "      border-color: transparent;\n",
              "      border-right-color: var(--fill-color);\n",
              "    }\n",
              "    80% {\n",
              "      border-color: transparent;\n",
              "      border-right-color: var(--fill-color);\n",
              "      border-bottom-color: var(--fill-color);\n",
              "    }\n",
              "    90% {\n",
              "      border-color: transparent;\n",
              "      border-bottom-color: var(--fill-color);\n",
              "    }\n",
              "  }\n",
              "</style>\n",
              "\n",
              "  <script>\n",
              "    async function quickchart(key) {\n",
              "      const quickchartButtonEl =\n",
              "        document.querySelector('#' + key + ' button');\n",
              "      quickchartButtonEl.disabled = true;  // To prevent multiple clicks.\n",
              "      quickchartButtonEl.classList.add('colab-df-spinner');\n",
              "      try {\n",
              "        const charts = await google.colab.kernel.invokeFunction(\n",
              "            'suggestCharts', [key], {});\n",
              "      } catch (error) {\n",
              "        console.error('Error during call to suggestCharts:', error);\n",
              "      }\n",
              "      quickchartButtonEl.classList.remove('colab-df-spinner');\n",
              "      quickchartButtonEl.classList.add('colab-df-quickchart-complete');\n",
              "    }\n",
              "    (() => {\n",
              "      let quickchartButtonEl =\n",
              "        document.querySelector('#df-00288a4b-b147-4a4e-9a7b-934f9ef5eadd button');\n",
              "      quickchartButtonEl.style.display =\n",
              "        google.colab.kernel.accessAllowed ? 'block' : 'none';\n",
              "    })();\n",
              "  </script>\n",
              "</div>\n",
              "\n",
              "    </div>\n",
              "  </div>\n"
            ],
            "text/plain": [
              "                                               title  \\\n",
              "0   Donald Trump Sends Out Embarrassing New Year’...   \n",
              "1   Drunk Bragging Trump Staffer Started Russian ...   \n",
              "2   Sheriff David Clarke Becomes An Internet Joke...   \n",
              "3   Trump Is So Obsessed He Even Has Obama’s Name...   \n",
              "4   Pope Francis Just Called Out Donald Trump Dur...   \n",
              "\n",
              "                                                text subject  \\\n",
              "0  Donald Trump just couldn t wish all Americans ...    News   \n",
              "1  House Intelligence Committee Chairman Devin Nu...    News   \n",
              "2  On Friday, it was revealed that former Milwauk...    News   \n",
              "3  On Christmas day, Donald Trump announced that ...    News   \n",
              "4  Pope Francis used his annual Christmas Day mes...    News   \n",
              "\n",
              "                date  \n",
              "0  December 31, 2017  \n",
              "1  December 31, 2017  \n",
              "2  December 30, 2017  \n",
              "3  December 29, 2017  \n",
              "4  December 25, 2017  "
            ]
          },
          "execution_count": 4,
          "metadata": {},
          "output_type": "execute_result"
        }
      ],
      "source": [
        "fake_news.head()"
      ]
    },
    {
      "cell_type": "code",
      "execution_count": 5,
      "id": "dc586f81",
      "metadata": {
        "colab": {
          "base_uri": "https://localhost:8080/",
          "height": 206
        },
        "execution": {
          "iopub.execute_input": "2024-05-05T13:21:06.556000Z",
          "iopub.status.busy": "2024-05-05T13:21:06.554638Z",
          "iopub.status.idle": "2024-05-05T13:21:06.570327Z",
          "shell.execute_reply": "2024-05-05T13:21:06.568905Z"
        },
        "id": "dc586f81",
        "outputId": "1ba08958-9474-4c9e-83b6-297e12596622",
        "papermill": {
          "duration": 0.034174,
          "end_time": "2024-05-05T13:21:06.573275",
          "exception": false,
          "start_time": "2024-05-05T13:21:06.539101",
          "status": "completed"
        },
        "tags": []
      },
      "outputs": [
        {
          "data": {
            "application/vnd.google.colaboratory.intrinsic+json": {
              "summary": "{\n  \"name\": \"true_news\",\n  \"rows\": 21417,\n  \"fields\": [\n    {\n      \"column\": \"title\",\n      \"properties\": {\n        \"dtype\": \"string\",\n        \"num_unique_values\": 20826,\n        \"samples\": [\n          \"German, Turkish foreign ministers meet after detainee released\",\n          \"Kremlin calls North Korea's latest missile launch another 'provocation'\",\n          \"Transgender soldiers, veterans shaken by Trump's ban on their service\"\n        ],\n        \"semantic_type\": \"\",\n        \"description\": \"\"\n      }\n    },\n    {\n      \"column\": \"text\",\n      \"properties\": {\n        \"dtype\": \"string\",\n        \"num_unique_values\": 21192,\n        \"samples\": [\n          \"WASHINGTON (Reuters) - A majority of the U.S. Senate on Tuesday backed a new round of disaster aid to help Puerto Rico and several states recover from damage from hurricanes and wildfires. The legislation would provide $36.5 billion in emergency relief as Puerto Rico in particular struggles to regain electricity and other basic services following destructive hurricanes. The House of Representatives approved the bill earlier this month. The Trump administration already has indicated it will seek another round of emergency relief from Congress. \",\n          \"BUDAPEST (Reuters) - About a thousand Hungarians protested on Friday against a crackdown on the main opposition party Jobbik which has been  threatened by a record political campaign fine that the party leader describes as a  death sentence  for democracy. Despite the gloomy rhetoric and Jobbik saying it was fighting for survival, support for the demonstration was well down on other similar rallies over the past year. Hungarians will vote for a new parliament in April and Prime Minister Viktor Orban s conservative, anti-migrant Fidesz party is far ahead in the polls, with Jobbik its nearest rival. Jobbik, once on the far right, has turned toward the center in a bid to attract more support and is now campaigning nationwide against Orban, depicting him as the leader of a criminal gang. Orban, rejecting the charges, says his financial standing is  an open book . Last week the state audit office (ASZ) ruled Jobbik had bought political posters far below market prices, breaching rules on political funding, then it slapped a 663 million forint ($2.5 million) penalty on the party. The protesters, waving Jobbik flags and posters deriding the ruling elite, gathered outside the headquarters of Orban s Fidesz party.  What we see unfolding is not an audit office investigation. It is not an official penalty. This is a death sentence with Jobbik s name on it. But in reality, it is a death sentence for Hungarian democracy,  Jobbiik leader Gabor Vona told the crowd. A government spokesman could not comment immediately on his remarks. ASZ chairman Laszlo Domokos is a former Fidesz lawmaker, whom Jobbik and other critics accuse of making decisions in favor of Orban. The audit office denies that. On Friday, ASZ again called on Jobbik to submit information that would challenge its findings, saying it acted fully within its rights throughout the probe. The ruling Fidesz party and the government have denied any involvement in the ASZ probe.  This case has nothing to do with the election campaign,  Orban aide Janos Lazar said on Thursday. For over a year Fidesz has targeted Jobbik, whose move to the center could upend the longstanding status quo of a dominant Fidesz with weaker opponents to its left and its right, said analyst Zoltan Novak at the Centre for Fair Political Analysis. Gyorgy Illes, a 67-year-old pensioner attending the rally, said he used to be a Socialist supporter but got disillusioned as the party struggled to overcome its internal divisions.  This ASZ probe is a clear sign that Orban is way past any remedy. It is a ruthless attack on everything we hold dear. Democracy, the rule of law, equality, you name it,  he said. \",\n          \"BEIJING/TAIPEI (Reuters) - China accused the United States on Thursday of interfering in its internal affairs and said it had lodged a complaint after U.S. President Donald Trump signed into law an act laying the groundwork for possible U.S. navy visits to self-ruled Taiwan. Tensions have risen in recent days after a senior Chinese diplomat threatened China would invade Taiwan if any U.S. warships made port visits to the island which China claims as its own territory. On Monday, Chinese jets carried out  island encirclement patrols  around Taiwan, with state media showing pictures of bombers with cruise missiles slung under their wings as they carried out the exercise. On Tuesday, Trump signed into law the National Defense Authorization Act for the 2018 fiscal year, which authorizes the possibility of mutual visits by navy vessels between Taiwan and the United States. Such visits would be the first since the United States ended formal diplomatic relations with Taiwan in 1979 and established ties with Beijing. Chinese Foreign Ministry spokesman Lu Kang said while the Taiwan sections of the law were not legally binding, they seriously violate the  One China  policy and  constitute an interference in China s internal affairs .   China is resolutely opposed to this, and we have already lodged stern representations with the U.S. government,  Lu told a daily news briefing. China is firmly opposed to any official exchanges, military contact, or arms sales between Taiwan and the United States, he added.  Proudly democratic Taiwan has become increasingly concerned with the ramped up Chinese military presence, that has included several rounds of Chinese air force drills around the island in recent months.  Taiwan is confident of its defenses and responded quickly to the Chinese air force drills this week, its government said, denouncing the rise in China s military deployments as irresponsible. Taiwan presidential spokesman Alex Huang, speaking to Taiwan media in comments reported late on Wednesday, said the defense ministry had kept a close watch on the patrols and responded immediately and properly. Taiwan  can ensure there are no concerns at all about national security, and people can rest assured , Huang said. Both sides of the narrow Taiwan Strait, which separates Taiwan from its giant neighbor, have a responsibility to protect peace and stability, he added.  Such a raised military posture that may impact upon and harm regional peace and stability and cross-strait ties does not give a feeling of responsibility, and the international community does not look favorably upon this,  Huang was quoted as saying. Relations have soured considerably since Tsai Ing-wen, who leads Taiwan s independence-leaning Democratic Progressive Party, won presidential elections last year. China suspects Tsai wants to declare the island s formal independence, a red line for Beijing. Tsai says she wants to maintain peace with China but will defend Taiwan s security. Taiwan is well equipped with mostly U.S. weapons but has been pressing for more advanced equipment to deal with what it sees as a rising threat from China. The United States is bound by law to provide the island with the means to defend itself. China has never renounced the use of force to bring Taiwan under its control. \"\n        ],\n        \"semantic_type\": \"\",\n        \"description\": \"\"\n      }\n    },\n    {\n      \"column\": \"subject\",\n      \"properties\": {\n        \"dtype\": \"category\",\n        \"num_unique_values\": 2,\n        \"samples\": [\n          \"worldnews\",\n          \"politicsNews\"\n        ],\n        \"semantic_type\": \"\",\n        \"description\": \"\"\n      }\n    },\n    {\n      \"column\": \"date\",\n      \"properties\": {\n        \"dtype\": \"object\",\n        \"num_unique_values\": 716,\n        \"samples\": [\n          \"September 2, 2017 \",\n          \"February 2, 2017 \"\n        ],\n        \"semantic_type\": \"\",\n        \"description\": \"\"\n      }\n    }\n  ]\n}",
              "type": "dataframe",
              "variable_name": "true_news"
            },
            "text/html": [
              "\n",
              "  <div id=\"df-0cd52d69-b037-49e6-869e-41efde699591\" class=\"colab-df-container\">\n",
              "    <div>\n",
              "<style scoped>\n",
              "    .dataframe tbody tr th:only-of-type {\n",
              "        vertical-align: middle;\n",
              "    }\n",
              "\n",
              "    .dataframe tbody tr th {\n",
              "        vertical-align: top;\n",
              "    }\n",
              "\n",
              "    .dataframe thead th {\n",
              "        text-align: right;\n",
              "    }\n",
              "</style>\n",
              "<table border=\"1\" class=\"dataframe\">\n",
              "  <thead>\n",
              "    <tr style=\"text-align: right;\">\n",
              "      <th></th>\n",
              "      <th>title</th>\n",
              "      <th>text</th>\n",
              "      <th>subject</th>\n",
              "      <th>date</th>\n",
              "    </tr>\n",
              "  </thead>\n",
              "  <tbody>\n",
              "    <tr>\n",
              "      <th>0</th>\n",
              "      <td>As U.S. budget fight looms, Republicans flip t...</td>\n",
              "      <td>WASHINGTON (Reuters) - The head of a conservat...</td>\n",
              "      <td>politicsNews</td>\n",
              "      <td>December 31, 2017</td>\n",
              "    </tr>\n",
              "    <tr>\n",
              "      <th>1</th>\n",
              "      <td>U.S. military to accept transgender recruits o...</td>\n",
              "      <td>WASHINGTON (Reuters) - Transgender people will...</td>\n",
              "      <td>politicsNews</td>\n",
              "      <td>December 29, 2017</td>\n",
              "    </tr>\n",
              "    <tr>\n",
              "      <th>2</th>\n",
              "      <td>Senior U.S. Republican senator: 'Let Mr. Muell...</td>\n",
              "      <td>WASHINGTON (Reuters) - The special counsel inv...</td>\n",
              "      <td>politicsNews</td>\n",
              "      <td>December 31, 2017</td>\n",
              "    </tr>\n",
              "    <tr>\n",
              "      <th>3</th>\n",
              "      <td>FBI Russia probe helped by Australian diplomat...</td>\n",
              "      <td>WASHINGTON (Reuters) - Trump campaign adviser ...</td>\n",
              "      <td>politicsNews</td>\n",
              "      <td>December 30, 2017</td>\n",
              "    </tr>\n",
              "    <tr>\n",
              "      <th>4</th>\n",
              "      <td>Trump wants Postal Service to charge 'much mor...</td>\n",
              "      <td>SEATTLE/WASHINGTON (Reuters) - President Donal...</td>\n",
              "      <td>politicsNews</td>\n",
              "      <td>December 29, 2017</td>\n",
              "    </tr>\n",
              "  </tbody>\n",
              "</table>\n",
              "</div>\n",
              "    <div class=\"colab-df-buttons\">\n",
              "\n",
              "  <div class=\"colab-df-container\">\n",
              "    <button class=\"colab-df-convert\" onclick=\"convertToInteractive('df-0cd52d69-b037-49e6-869e-41efde699591')\"\n",
              "            title=\"Convert this dataframe to an interactive table.\"\n",
              "            style=\"display:none;\">\n",
              "\n",
              "  <svg xmlns=\"http://www.w3.org/2000/svg\" height=\"24px\" viewBox=\"0 -960 960 960\">\n",
              "    <path d=\"M120-120v-720h720v720H120Zm60-500h600v-160H180v160Zm220 220h160v-160H400v160Zm0 220h160v-160H400v160ZM180-400h160v-160H180v160Zm440 0h160v-160H620v160ZM180-180h160v-160H180v160Zm440 0h160v-160H620v160Z\"/>\n",
              "  </svg>\n",
              "    </button>\n",
              "\n",
              "  <style>\n",
              "    .colab-df-container {\n",
              "      display:flex;\n",
              "      gap: 12px;\n",
              "    }\n",
              "\n",
              "    .colab-df-convert {\n",
              "      background-color: #E8F0FE;\n",
              "      border: none;\n",
              "      border-radius: 50%;\n",
              "      cursor: pointer;\n",
              "      display: none;\n",
              "      fill: #1967D2;\n",
              "      height: 32px;\n",
              "      padding: 0 0 0 0;\n",
              "      width: 32px;\n",
              "    }\n",
              "\n",
              "    .colab-df-convert:hover {\n",
              "      background-color: #E2EBFA;\n",
              "      box-shadow: 0px 1px 2px rgba(60, 64, 67, 0.3), 0px 1px 3px 1px rgba(60, 64, 67, 0.15);\n",
              "      fill: #174EA6;\n",
              "    }\n",
              "\n",
              "    .colab-df-buttons div {\n",
              "      margin-bottom: 4px;\n",
              "    }\n",
              "\n",
              "    [theme=dark] .colab-df-convert {\n",
              "      background-color: #3B4455;\n",
              "      fill: #D2E3FC;\n",
              "    }\n",
              "\n",
              "    [theme=dark] .colab-df-convert:hover {\n",
              "      background-color: #434B5C;\n",
              "      box-shadow: 0px 1px 3px 1px rgba(0, 0, 0, 0.15);\n",
              "      filter: drop-shadow(0px 1px 2px rgba(0, 0, 0, 0.3));\n",
              "      fill: #FFFFFF;\n",
              "    }\n",
              "  </style>\n",
              "\n",
              "    <script>\n",
              "      const buttonEl =\n",
              "        document.querySelector('#df-0cd52d69-b037-49e6-869e-41efde699591 button.colab-df-convert');\n",
              "      buttonEl.style.display =\n",
              "        google.colab.kernel.accessAllowed ? 'block' : 'none';\n",
              "\n",
              "      async function convertToInteractive(key) {\n",
              "        const element = document.querySelector('#df-0cd52d69-b037-49e6-869e-41efde699591');\n",
              "        const dataTable =\n",
              "          await google.colab.kernel.invokeFunction('convertToInteractive',\n",
              "                                                    [key], {});\n",
              "        if (!dataTable) return;\n",
              "\n",
              "        const docLinkHtml = 'Like what you see? Visit the ' +\n",
              "          '<a target=\"_blank\" href=https://colab.research.google.com/notebooks/data_table.ipynb>data table notebook</a>'\n",
              "          + ' to learn more about interactive tables.';\n",
              "        element.innerHTML = '';\n",
              "        dataTable['output_type'] = 'display_data';\n",
              "        await google.colab.output.renderOutput(dataTable, element);\n",
              "        const docLink = document.createElement('div');\n",
              "        docLink.innerHTML = docLinkHtml;\n",
              "        element.appendChild(docLink);\n",
              "      }\n",
              "    </script>\n",
              "  </div>\n",
              "\n",
              "\n",
              "<div id=\"df-4f2445c3-961d-4f25-aeb3-9541f2911bfc\">\n",
              "  <button class=\"colab-df-quickchart\" onclick=\"quickchart('df-4f2445c3-961d-4f25-aeb3-9541f2911bfc')\"\n",
              "            title=\"Suggest charts\"\n",
              "            style=\"display:none;\">\n",
              "\n",
              "<svg xmlns=\"http://www.w3.org/2000/svg\" height=\"24px\"viewBox=\"0 0 24 24\"\n",
              "     width=\"24px\">\n",
              "    <g>\n",
              "        <path d=\"M19 3H5c-1.1 0-2 .9-2 2v14c0 1.1.9 2 2 2h14c1.1 0 2-.9 2-2V5c0-1.1-.9-2-2-2zM9 17H7v-7h2v7zm4 0h-2V7h2v10zm4 0h-2v-4h2v4z\"/>\n",
              "    </g>\n",
              "</svg>\n",
              "  </button>\n",
              "\n",
              "<style>\n",
              "  .colab-df-quickchart {\n",
              "      --bg-color: #E8F0FE;\n",
              "      --fill-color: #1967D2;\n",
              "      --hover-bg-color: #E2EBFA;\n",
              "      --hover-fill-color: #174EA6;\n",
              "      --disabled-fill-color: #AAA;\n",
              "      --disabled-bg-color: #DDD;\n",
              "  }\n",
              "\n",
              "  [theme=dark] .colab-df-quickchart {\n",
              "      --bg-color: #3B4455;\n",
              "      --fill-color: #D2E3FC;\n",
              "      --hover-bg-color: #434B5C;\n",
              "      --hover-fill-color: #FFFFFF;\n",
              "      --disabled-bg-color: #3B4455;\n",
              "      --disabled-fill-color: #666;\n",
              "  }\n",
              "\n",
              "  .colab-df-quickchart {\n",
              "    background-color: var(--bg-color);\n",
              "    border: none;\n",
              "    border-radius: 50%;\n",
              "    cursor: pointer;\n",
              "    display: none;\n",
              "    fill: var(--fill-color);\n",
              "    height: 32px;\n",
              "    padding: 0;\n",
              "    width: 32px;\n",
              "  }\n",
              "\n",
              "  .colab-df-quickchart:hover {\n",
              "    background-color: var(--hover-bg-color);\n",
              "    box-shadow: 0 1px 2px rgba(60, 64, 67, 0.3), 0 1px 3px 1px rgba(60, 64, 67, 0.15);\n",
              "    fill: var(--button-hover-fill-color);\n",
              "  }\n",
              "\n",
              "  .colab-df-quickchart-complete:disabled,\n",
              "  .colab-df-quickchart-complete:disabled:hover {\n",
              "    background-color: var(--disabled-bg-color);\n",
              "    fill: var(--disabled-fill-color);\n",
              "    box-shadow: none;\n",
              "  }\n",
              "\n",
              "  .colab-df-spinner {\n",
              "    border: 2px solid var(--fill-color);\n",
              "    border-color: transparent;\n",
              "    border-bottom-color: var(--fill-color);\n",
              "    animation:\n",
              "      spin 1s steps(1) infinite;\n",
              "  }\n",
              "\n",
              "  @keyframes spin {\n",
              "    0% {\n",
              "      border-color: transparent;\n",
              "      border-bottom-color: var(--fill-color);\n",
              "      border-left-color: var(--fill-color);\n",
              "    }\n",
              "    20% {\n",
              "      border-color: transparent;\n",
              "      border-left-color: var(--fill-color);\n",
              "      border-top-color: var(--fill-color);\n",
              "    }\n",
              "    30% {\n",
              "      border-color: transparent;\n",
              "      border-left-color: var(--fill-color);\n",
              "      border-top-color: var(--fill-color);\n",
              "      border-right-color: var(--fill-color);\n",
              "    }\n",
              "    40% {\n",
              "      border-color: transparent;\n",
              "      border-right-color: var(--fill-color);\n",
              "      border-top-color: var(--fill-color);\n",
              "    }\n",
              "    60% {\n",
              "      border-color: transparent;\n",
              "      border-right-color: var(--fill-color);\n",
              "    }\n",
              "    80% {\n",
              "      border-color: transparent;\n",
              "      border-right-color: var(--fill-color);\n",
              "      border-bottom-color: var(--fill-color);\n",
              "    }\n",
              "    90% {\n",
              "      border-color: transparent;\n",
              "      border-bottom-color: var(--fill-color);\n",
              "    }\n",
              "  }\n",
              "</style>\n",
              "\n",
              "  <script>\n",
              "    async function quickchart(key) {\n",
              "      const quickchartButtonEl =\n",
              "        document.querySelector('#' + key + ' button');\n",
              "      quickchartButtonEl.disabled = true;  // To prevent multiple clicks.\n",
              "      quickchartButtonEl.classList.add('colab-df-spinner');\n",
              "      try {\n",
              "        const charts = await google.colab.kernel.invokeFunction(\n",
              "            'suggestCharts', [key], {});\n",
              "      } catch (error) {\n",
              "        console.error('Error during call to suggestCharts:', error);\n",
              "      }\n",
              "      quickchartButtonEl.classList.remove('colab-df-spinner');\n",
              "      quickchartButtonEl.classList.add('colab-df-quickchart-complete');\n",
              "    }\n",
              "    (() => {\n",
              "      let quickchartButtonEl =\n",
              "        document.querySelector('#df-4f2445c3-961d-4f25-aeb3-9541f2911bfc button');\n",
              "      quickchartButtonEl.style.display =\n",
              "        google.colab.kernel.accessAllowed ? 'block' : 'none';\n",
              "    })();\n",
              "  </script>\n",
              "</div>\n",
              "\n",
              "    </div>\n",
              "  </div>\n"
            ],
            "text/plain": [
              "                                               title  \\\n",
              "0  As U.S. budget fight looms, Republicans flip t...   \n",
              "1  U.S. military to accept transgender recruits o...   \n",
              "2  Senior U.S. Republican senator: 'Let Mr. Muell...   \n",
              "3  FBI Russia probe helped by Australian diplomat...   \n",
              "4  Trump wants Postal Service to charge 'much mor...   \n",
              "\n",
              "                                                text       subject  \\\n",
              "0  WASHINGTON (Reuters) - The head of a conservat...  politicsNews   \n",
              "1  WASHINGTON (Reuters) - Transgender people will...  politicsNews   \n",
              "2  WASHINGTON (Reuters) - The special counsel inv...  politicsNews   \n",
              "3  WASHINGTON (Reuters) - Trump campaign adviser ...  politicsNews   \n",
              "4  SEATTLE/WASHINGTON (Reuters) - President Donal...  politicsNews   \n",
              "\n",
              "                 date  \n",
              "0  December 31, 2017   \n",
              "1  December 29, 2017   \n",
              "2  December 31, 2017   \n",
              "3  December 30, 2017   \n",
              "4  December 29, 2017   "
            ]
          },
          "execution_count": 5,
          "metadata": {},
          "output_type": "execute_result"
        }
      ],
      "source": [
        "true_news.head()"
      ]
    },
    {
      "cell_type": "code",
      "execution_count": 6,
      "id": "2fbf24ad",
      "metadata": {
        "colab": {
          "base_uri": "https://localhost:8080/"
        },
        "execution": {
          "iopub.execute_input": "2024-05-05T13:21:06.601996Z",
          "iopub.status.busy": "2024-05-05T13:21:06.601487Z",
          "iopub.status.idle": "2024-05-05T13:21:06.657528Z",
          "shell.execute_reply": "2024-05-05T13:21:06.655597Z"
        },
        "id": "2fbf24ad",
        "outputId": "a486571c-a49b-48c0-f22c-23c772777954",
        "papermill": {
          "duration": 0.075157,
          "end_time": "2024-05-05T13:21:06.661793",
          "exception": false,
          "start_time": "2024-05-05T13:21:06.586636",
          "status": "completed"
        },
        "tags": []
      },
      "outputs": [
        {
          "name": "stdout",
          "output_type": "stream",
          "text": [
            "<class 'pandas.core.frame.DataFrame'>\n",
            "RangeIndex: 23481 entries, 0 to 23480\n",
            "Data columns (total 4 columns):\n",
            " #   Column   Non-Null Count  Dtype \n",
            "---  ------   --------------  ----- \n",
            " 0   title    23481 non-null  object\n",
            " 1   text     23481 non-null  object\n",
            " 2   subject  23481 non-null  object\n",
            " 3   date     23481 non-null  object\n",
            "dtypes: object(4)\n",
            "memory usage: 733.9+ KB\n"
          ]
        }
      ],
      "source": [
        "fake_news.info()"
      ]
    },
    {
      "cell_type": "code",
      "execution_count": 7,
      "id": "2960c7b7",
      "metadata": {
        "colab": {
          "base_uri": "https://localhost:8080/"
        },
        "execution": {
          "iopub.execute_input": "2024-05-05T13:21:06.695783Z",
          "iopub.status.busy": "2024-05-05T13:21:06.694016Z",
          "iopub.status.idle": "2024-05-05T13:21:06.722478Z",
          "shell.execute_reply": "2024-05-05T13:21:06.720501Z"
        },
        "id": "2960c7b7",
        "outputId": "6c830452-4303-4fb6-ad1c-66b2aa1d7e10",
        "papermill": {
          "duration": 0.047638,
          "end_time": "2024-05-05T13:21:06.725819",
          "exception": false,
          "start_time": "2024-05-05T13:21:06.678181",
          "status": "completed"
        },
        "tags": []
      },
      "outputs": [
        {
          "name": "stdout",
          "output_type": "stream",
          "text": [
            "<class 'pandas.core.frame.DataFrame'>\n",
            "RangeIndex: 21417 entries, 0 to 21416\n",
            "Data columns (total 4 columns):\n",
            " #   Column   Non-Null Count  Dtype \n",
            "---  ------   --------------  ----- \n",
            " 0   title    21417 non-null  object\n",
            " 1   text     21417 non-null  object\n",
            " 2   subject  21417 non-null  object\n",
            " 3   date     21417 non-null  object\n",
            "dtypes: object(4)\n",
            "memory usage: 669.4+ KB\n"
          ]
        }
      ],
      "source": [
        "true_news.info()"
      ]
    },
    {
      "cell_type": "code",
      "execution_count": 8,
      "id": "3410a2f4",
      "metadata": {
        "colab": {
          "base_uri": "https://localhost:8080/"
        },
        "execution": {
          "iopub.execute_input": "2024-05-05T13:21:06.756552Z",
          "iopub.status.busy": "2024-05-05T13:21:06.755337Z",
          "iopub.status.idle": "2024-05-05T13:21:07.130350Z",
          "shell.execute_reply": "2024-05-05T13:21:07.129131Z"
        },
        "id": "3410a2f4",
        "outputId": "448cdcd3-20f3-44d0-b9e4-b54194a8edef",
        "papermill": {
          "duration": 0.39476,
          "end_time": "2024-05-05T13:21:07.134594",
          "exception": false,
          "start_time": "2024-05-05T13:21:06.739834",
          "status": "completed"
        },
        "tags": []
      },
      "outputs": [
        {
          "data": {
            "text/plain": [
              "(np.int64(3), np.int64(206))"
            ]
          },
          "execution_count": 8,
          "metadata": {},
          "output_type": "execute_result"
        }
      ],
      "source": [
        "fake_news.duplicated().sum(), true_news.duplicated().sum()"
      ]
    },
    {
      "cell_type": "code",
      "execution_count": 9,
      "id": "5212622e",
      "metadata": {
        "execution": {
          "iopub.execute_input": "2024-05-05T13:21:07.165889Z",
          "iopub.status.busy": "2024-05-05T13:21:07.165398Z",
          "iopub.status.idle": "2024-05-05T13:21:07.508421Z",
          "shell.execute_reply": "2024-05-05T13:21:07.506855Z"
        },
        "id": "5212622e",
        "papermill": {
          "duration": 0.36217,
          "end_time": "2024-05-05T13:21:07.512239",
          "exception": false,
          "start_time": "2024-05-05T13:21:07.150069",
          "status": "completed"
        },
        "tags": []
      },
      "outputs": [],
      "source": [
        "true_news.drop_duplicates(inplace=True)\n",
        "fake_news.drop_duplicates(inplace=True)"
      ]
    },
    {
      "cell_type": "code",
      "execution_count": 10,
      "id": "57636748",
      "metadata": {
        "execution": {
          "iopub.execute_input": "2024-05-05T13:21:07.542918Z",
          "iopub.status.busy": "2024-05-05T13:21:07.542436Z",
          "iopub.status.idle": "2024-05-05T13:21:07.550855Z",
          "shell.execute_reply": "2024-05-05T13:21:07.549436Z"
        },
        "id": "57636748",
        "papermill": {
          "duration": 0.027409,
          "end_time": "2024-05-05T13:21:07.553484",
          "exception": false,
          "start_time": "2024-05-05T13:21:07.526075",
          "status": "completed"
        },
        "tags": []
      },
      "outputs": [],
      "source": [
        "true_news[\"target\"] = 1\n",
        "fake_news[\"target\"] = 0"
      ]
    },
    {
      "cell_type": "code",
      "execution_count": 11,
      "id": "d40c4ca7",
      "metadata": {
        "colab": {
          "base_uri": "https://localhost:8080/"
        },
        "execution": {
          "iopub.execute_input": "2024-05-05T13:21:07.588206Z",
          "iopub.status.busy": "2024-05-05T13:21:07.586867Z",
          "iopub.status.idle": "2024-05-05T13:21:07.597042Z",
          "shell.execute_reply": "2024-05-05T13:21:07.596029Z"
        },
        "id": "d40c4ca7",
        "outputId": "64be9056-471e-4a3c-fc16-b43532229177",
        "papermill": {
          "duration": 0.033898,
          "end_time": "2024-05-05T13:21:07.601008",
          "exception": false,
          "start_time": "2024-05-05T13:21:07.567110",
          "status": "completed"
        },
        "tags": []
      },
      "outputs": [
        {
          "name": "stdout",
          "output_type": "stream",
          "text": [
            "There are 21211 texts\n",
            "\n",
            "The first 1 texts are these:\n",
            "\n",
            "WASHINGTON (Reuters) - The head of a conservative Republican faction in the U.S. Congress, who voted this month for a huge expansion of the national debt to pay for tax cuts, called himself a “fiscal conservative” on Sunday and urged budget restraint in 2018. In keeping with a sharp pivot under way among Republicans, U.S. Representative Mark Meadows, speaking on CBS’ “Face the Nation,” drew a hard line on federal spending, which lawmakers are bracing to do battle over in January. When they return from the holidays on Wednesday, lawmakers will begin trying to pass a federal budget in a fight likely to be linked to other issues, such as immigration policy, even as the November congressional election campaigns approach in which Republicans will seek to keep control of Congress. President Donald Trump and his Republicans want a big budget increase in military spending, while Democrats also want proportional increases for non-defense “discretionary” spending on programs that support education, scientific research, infrastructure, public health and environmental protection. “The (Trump) administration has already been willing to say: ‘We’re going to increase non-defense discretionary spending ... by about 7 percent,’” Meadows, chairman of the small but influential House Freedom Caucus, said on the program. “Now, Democrats are saying that’s not enough, we need to give the government a pay raise of 10 to 11 percent. For a fiscal conservative, I don’t see where the rationale is. ... Eventually you run out of other people’s money,” he said. Meadows was among Republicans who voted in late December for their party’s debt-financed tax overhaul, which is expected to balloon the federal budget deficit and add about $1.5 trillion over 10 years to the $20 trillion national debt. “It’s interesting to hear Mark talk about fiscal responsibility,” Democratic U.S. Representative Joseph Crowley said on CBS. Crowley said the Republican tax bill would require the  United States to borrow $1.5 trillion, to be paid off by future generations, to finance tax cuts for corporations and the rich. “This is one of the least ... fiscally responsible bills we’ve ever seen passed in the history of the House of Representatives. I think we’re going to be paying for this for many, many years to come,” Crowley said. Republicans insist the tax package, the biggest U.S. tax overhaul in more than 30 years,  will boost the economy and job growth. House Speaker Paul Ryan, who also supported the tax bill, recently went further than Meadows, making clear in a radio interview that welfare or “entitlement reform,” as the party often calls it, would be a top Republican priority in 2018. In Republican parlance, “entitlement” programs mean food stamps, housing assistance, Medicare and Medicaid health insurance for the elderly, poor and disabled, as well as other programs created by Washington to assist the needy. Democrats seized on Ryan’s early December remarks, saying they showed Republicans would try to pay for their tax overhaul by seeking spending cuts for social programs. But the goals of House Republicans may have to take a back seat to the Senate, where the votes of some Democrats will be needed to approve a budget and prevent a government shutdown. Democrats will use their leverage in the Senate, which Republicans narrowly control, to defend both discretionary non-defense programs and social spending, while tackling the issue of the “Dreamers,” people brought illegally to the country as children. Trump in September put a March 2018 expiration date on the Deferred Action for Childhood Arrivals, or DACA, program, which protects the young immigrants from deportation and provides them with work permits. The president has said in recent Twitter messages he wants funding for his proposed Mexican border wall and other immigration law changes in exchange for agreeing to help the Dreamers. Representative Debbie Dingell told CBS she did not favor linking that issue to other policy objectives, such as wall funding. “We need to do DACA clean,” she said.  On Wednesday, Trump aides will meet with congressional leaders to discuss those issues. That will be followed by a weekend of strategy sessions for Trump and Republican leaders on Jan. 6 and 7, the White House said. Trump was also scheduled to meet on Sunday with Florida Republican Governor Rick Scott, who wants more emergency aid. The House has passed an $81 billion aid package after hurricanes in Florida, Texas and Puerto Rico, and wildfires in California. The package far exceeded the $44 billion requested by the Trump administration. The Senate has not yet voted on the aid. \n"
          ]
        }
      ],
      "source": [
        "print(f\"There are {len(true_news)} texts\\n\")\n",
        "print(f\"The first 1 texts are these:\\n\")\n",
        "print(true_news[\"text\"][0])"
      ]
    },
    {
      "cell_type": "code",
      "execution_count": 12,
      "id": "19f33846",
      "metadata": {
        "colab": {
          "base_uri": "https://localhost:8080/"
        },
        "execution": {
          "iopub.execute_input": "2024-05-05T13:21:07.639130Z",
          "iopub.status.busy": "2024-05-05T13:21:07.638156Z",
          "iopub.status.idle": "2024-05-05T13:21:07.647236Z",
          "shell.execute_reply": "2024-05-05T13:21:07.646153Z"
        },
        "id": "19f33846",
        "outputId": "969e697a-8aa9-489c-9948-e3b0f4fa84a9",
        "papermill": {
          "duration": 0.032173,
          "end_time": "2024-05-05T13:21:07.650283",
          "exception": false,
          "start_time": "2024-05-05T13:21:07.618110",
          "status": "completed"
        },
        "tags": []
      },
      "outputs": [
        {
          "name": "stdout",
          "output_type": "stream",
          "text": [
            "There are 23478 texts\n",
            "\n",
            "The first 1 texts are these:\n",
            "\n",
            "Donald Trump just couldn t wish all Americans a Happy New Year and leave it at that. Instead, he had to give a shout out to his enemies, haters and  the very dishonest fake news media.  The former reality show star had just one job to do and he couldn t do it. As our Country rapidly grows stronger and smarter, I want to wish all of my friends, supporters, enemies, haters, and even the very dishonest Fake News Media, a Happy and Healthy New Year,  President Angry Pants tweeted.  2018 will be a great year for America! As our Country rapidly grows stronger and smarter, I want to wish all of my friends, supporters, enemies, haters, and even the very dishonest Fake News Media, a Happy and Healthy New Year. 2018 will be a great year for America!  Donald J. Trump (@realDonaldTrump) December 31, 2017Trump s tweet went down about as welll as you d expect.What kind of president sends a New Year s greeting like this despicable, petty, infantile gibberish? Only Trump! His lack of decency won t even allow him to rise above the gutter long enough to wish the American citizens a happy new year!  Bishop Talbert Swan (@TalbertSwan) December 31, 2017no one likes you  Calvin (@calvinstowell) December 31, 2017Your impeachment would make 2018 a great year for America, but I ll also accept regaining control of Congress.  Miranda Yaver (@mirandayaver) December 31, 2017Do you hear yourself talk? When you have to include that many people that hate you you have to wonder? Why do the they all hate me?  Alan Sandoval (@AlanSandoval13) December 31, 2017Who uses the word Haters in a New Years wish??  Marlene (@marlene399) December 31, 2017You can t just say happy new year?  Koren pollitt (@Korencarpenter) December 31, 2017Here s Trump s New Year s Eve tweet from 2016.Happy New Year to all, including to my many enemies and those who have fought me and lost so badly they just don t know what to do. Love!  Donald J. Trump (@realDonaldTrump) December 31, 2016This is nothing new for Trump. He s been doing this for years.Trump has directed messages to his  enemies  and  haters  for New Year s, Easter, Thanksgiving, and the anniversary of 9/11. pic.twitter.com/4FPAe2KypA  Daniel Dale (@ddale8) December 31, 2017Trump s holiday tweets are clearly not presidential.How long did he work at Hallmark before becoming President?  Steven Goodine (@SGoodine) December 31, 2017He s always been like this . . . the only difference is that in the last few years, his filter has been breaking down.  Roy Schulze (@thbthttt) December 31, 2017Who, apart from a teenager uses the term haters?  Wendy (@WendyWhistles) December 31, 2017he s a fucking 5 year old  Who Knows (@rainyday80) December 31, 2017So, to all the people who voted for this a hole thinking he would change once he got into power, you were wrong! 70-year-old men don t change and now he s a year older.Photo by Andrew Burton/Getty Images.\n"
          ]
        }
      ],
      "source": [
        "print(f\"There are {len(fake_news)} texts\\n\")\n",
        "print(f\"The first 1 texts are these:\\n\")\n",
        "print(fake_news[\"text\"][0])"
      ]
    },
    {
      "cell_type": "code",
      "execution_count": 13,
      "id": "cc7ee812",
      "metadata": {
        "execution": {
          "iopub.execute_input": "2024-05-05T13:21:07.683088Z",
          "iopub.status.busy": "2024-05-05T13:21:07.682471Z",
          "iopub.status.idle": "2024-05-05T13:21:33.887208Z",
          "shell.execute_reply": "2024-05-05T13:21:33.885739Z"
        },
        "id": "cc7ee812",
        "papermill": {
          "duration": 26.225163,
          "end_time": "2024-05-05T13:21:33.890607",
          "exception": false,
          "start_time": "2024-05-05T13:21:07.665444",
          "status": "completed"
        },
        "tags": []
      },
      "outputs": [],
      "source": [
        "import re\n",
        "from bs4 import BeautifulSoup\n",
        "import string\n",
        "import random\n",
        "import spacy as sp\n",
        "import tensorflow as tf\n",
        "from tensorflow.keras import layers\n",
        "from tensorflow.keras.preprocessing.text import Tokenizer\n",
        "from tensorflow.keras.preprocessing.sequence import pad_sequences\n",
        "from sklearn.model_selection import train_test_split\n",
        "import matplotlib.pyplot as plt"
      ]
    },
    {
      "cell_type": "code",
      "execution_count": 14,
      "id": "7ebeb9c0",
      "metadata": {
        "execution": {
          "iopub.execute_input": "2024-05-05T13:21:33.922908Z",
          "iopub.status.busy": "2024-05-05T13:21:33.921773Z",
          "iopub.status.idle": "2024-05-05T13:21:33.940689Z",
          "shell.execute_reply": "2024-05-05T13:21:33.938786Z"
        },
        "id": "7ebeb9c0",
        "papermill": {
          "duration": 0.038544,
          "end_time": "2024-05-05T13:21:33.943924",
          "exception": false,
          "start_time": "2024-05-05T13:21:33.905380",
          "status": "completed"
        },
        "tags": []
      },
      "outputs": [],
      "source": [
        "true_news.drop([\"subject\", \"date\", \"title\"], axis=1, inplace=True)\n",
        "fake_news.drop([\"subject\", \"date\", \"title\"], axis=1, inplace=True)"
      ]
    },
    {
      "cell_type": "code",
      "execution_count": 15,
      "id": "16b8be8e",
      "metadata": {
        "colab": {
          "base_uri": "https://localhost:8080/"
        },
        "execution": {
          "iopub.execute_input": "2024-05-05T13:21:33.975117Z",
          "iopub.status.busy": "2024-05-05T13:21:33.973737Z",
          "iopub.status.idle": "2024-05-05T13:21:33.983776Z",
          "shell.execute_reply": "2024-05-05T13:21:33.982532Z"
        },
        "id": "16b8be8e",
        "outputId": "85f5af10-a435-47c6-e58b-99523a716ab3",
        "papermill": {
          "duration": 0.028264,
          "end_time": "2024-05-05T13:21:33.986400",
          "exception": false,
          "start_time": "2024-05-05T13:21:33.958136",
          "status": "completed"
        },
        "tags": []
      },
      "outputs": [
        {
          "data": {
            "text/plain": [
              "(2000, 2000)"
            ]
          },
          "execution_count": 15,
          "metadata": {},
          "output_type": "execute_result"
        }
      ],
      "source": [
        "total_news = 2000\n",
        "fake_news = fake_news[:total_news]\n",
        "true_news = true_news[:total_news]\n",
        "len(fake_news), len(true_news)"
      ]
    },
    {
      "cell_type": "code",
      "execution_count": 16,
      "id": "e5ec8d4f",
      "metadata": {
        "colab": {
          "base_uri": "https://localhost:8080/",
          "height": 206
        },
        "execution": {
          "iopub.execute_input": "2024-05-05T13:21:34.018604Z",
          "iopub.status.busy": "2024-05-05T13:21:34.017641Z",
          "iopub.status.idle": "2024-05-05T13:21:34.035662Z",
          "shell.execute_reply": "2024-05-05T13:21:34.034571Z"
        },
        "id": "e5ec8d4f",
        "outputId": "78e327cd-3b10-4854-9eab-cc6b064034a6",
        "papermill": {
          "duration": 0.036975,
          "end_time": "2024-05-05T13:21:34.038118",
          "exception": false,
          "start_time": "2024-05-05T13:21:34.001143",
          "status": "completed"
        },
        "tags": []
      },
      "outputs": [
        {
          "data": {
            "application/vnd.google.colaboratory.intrinsic+json": {
              "summary": "{\n  \"name\": \"news\",\n  \"rows\": 4000,\n  \"fields\": [\n    {\n      \"column\": \"text\",\n      \"properties\": {\n        \"dtype\": \"string\",\n        \"num_unique_values\": 3998,\n        \"samples\": [\n          \"BEIJING (Reuters) - Japan talking only about sanctions on North Korea rather than dialogue will be seen as going against United Nations resolutions, Chinese Foreign Minister Wang Yi told his Japanese counterpart. Tensions have continued to rise since North Korea carried out its sixth nuclear test on Sept. 3, prompting a new round of U.N. sanctions. Wang told Japan Foreign Minister Taro Kono on the sidelines of a United Nations meeting in New York that the situation on the Korean peninsula was getting increasingly serious and all sides needed to remain calm. Resuming peace talks was just as much a part of the U.N. resolutions as enforcing sanctions, Wang said, according to a statement issued by China\\u2019s Foreign Ministry late on Friday. \\u201cIf the Japanese side only talks about sanctions and does not bring up talks, or even goes against talks, it will be seen as contravening Security Council resolutions,\\u201d the ministry cited Wang as saying. China hoped that Japan talked and acted cautiously and played a constructive role on the nuclear issue, he said. Beijing has repeatedly expressed concern about the rise of tensions over North Korea and, while it too has signed up for the increasingly tough U.N. sanctions, it has also urged a return to talks and for all parties to exercise restraint. On Friday, Russia urged \\u201chot heads\\u201d to calm down as the United States admitted it felt \\u201cchallenged\\u201d by North Korea\\u2019s warning that it could test a hydrogen bomb over the Pacific. Trump called North Korean leader Kim Jong Un a \\u201cmadman\\u201d on Friday, a day after Kim dubbed him a \\u201cmentally deranged U.S. dotard\\u201d who would face the \\u201chighest level of hard-line countermeasure in history\\u201d in retaliation for Trump saying the U.S. would \\u201ctotally destroy\\u201d North Korea if it threatened the United States or its allies. \",\n          \"It s certainly no secret that Trump struggles with vocabulary words, and his spelling isn t that great, either (who can forget covfefe?). He frequently assumes things he s completely unaware of are extremely simple, and is caught off guard when they re not. So it stands to reason that as the investigation continues to unfold, and the legalese flies fast and furious, he might have some trouble understanding what s going on   or, even worse, rage-tweeting about it.Not to worry! George Takei is here to help, with a brilliant tweet that s as much solid advice as it is sick burn. Here it is below:Donald: Since it's going to come up, it's spelled \\\"subpoena\\\" not \\\"supeena\\\" and \\\"indictment\\\" not \\\"inditement.\\\"You're welcome.  George Takei (@GeorgeTakei) August 7, 2017 Donald. Since it s going to come up, it s spelled  subpoena  not  supeena  and  indictment  not  inditement. Beautiful. Considering all the time Trump spends on Twitter, and how poorly he deals with any form of criticism, you can bet he ll be fuming if he reads it. Keep up the trolling, Takei!You might also enjoy Featured image via Mat Hayward/Getty Images for We Day\",\n          \"I ll admit it: I am not a huge fan of tribute songs. Making music is something sacred, and it s so hard to take topical songs seriously, unless it s like  Bob Dylan? Punk music? I m not sure, but contemporaneous talk-singing is just not my bag usually, and that s generally what people come up with as  protest  songs. That said, this gospel jam from Mykal Kilgore, a YouTube (and movie) star, is entirely different. It was inspired by a testy exchange last week between the always-feisty Rep. Maxine Waters (D-CA) and Treasury Secretary Steven Mnuchin. From the video description:Our beloved  Auntie  Maxine Waters laid this sermon down so good that I had to sing about it! Whenever anybody tries to distract me or block me (even with praise or platitudes) I m gonna have to let them know that I m #ReclaimingMyTime.It s a common tactic for old white Republican assholes either in Congress or before it: When they don t want to answer questions from women, Democrats, or especially women Democrats, they waste the time allotted to their questioner with meaningless compliments or interruptions. If they re creative types (did you know Mnuchin was a movie producer?), they can usually get away with wasting all of the time they would normally spend answering questions.When Rep. Waters grilled Mnuchin on July 27th during a House Financial Services Committee hearing about why she hadn t heard back on her request for information from the Treasury on Donald Trump s ties to Russian banks, that s exactly what Mnuchin tried to do. Rather than answering her question, the Treasury Secretary immediately launched into a spiel about  everything you ve done  for the state of California, prompting Waters to remind him that he was on her time, not his own.  I m reclaiming my time,  she said, noting that it was limited.Like the infamous  nevertheless, she persisted  exchange between Mitch McConnell and Elizabeth Warren during the confirmation hearing for Attorney General Jeff Sessions, the exchange almost immediately became a meme.But rather than inspiring a line of shirts, the Thursday snapshot of what it s like for women in Congress became lyrics for a surprisingly good song.Now reclaim a little of your time, and watch the video:Featured image via Chelsea Guglielmino/Getty Images\"\n        ],\n        \"semantic_type\": \"\",\n        \"description\": \"\"\n      }\n    },\n    {\n      \"column\": \"target\",\n      \"properties\": {\n        \"dtype\": \"number\",\n        \"std\": 0,\n        \"min\": 0,\n        \"max\": 1,\n        \"num_unique_values\": 2,\n        \"samples\": [\n          0,\n          1\n        ],\n        \"semantic_type\": \"\",\n        \"description\": \"\"\n      }\n    }\n  ]\n}",
              "type": "dataframe",
              "variable_name": "news"
            },
            "text/html": [
              "\n",
              "  <div id=\"df-9be0fb3f-db11-4ac4-a094-d93caa8c9d6c\" class=\"colab-df-container\">\n",
              "    <div>\n",
              "<style scoped>\n",
              "    .dataframe tbody tr th:only-of-type {\n",
              "        vertical-align: middle;\n",
              "    }\n",
              "\n",
              "    .dataframe tbody tr th {\n",
              "        vertical-align: top;\n",
              "    }\n",
              "\n",
              "    .dataframe thead th {\n",
              "        text-align: right;\n",
              "    }\n",
              "</style>\n",
              "<table border=\"1\" class=\"dataframe\">\n",
              "  <thead>\n",
              "    <tr style=\"text-align: right;\">\n",
              "      <th></th>\n",
              "      <th>text</th>\n",
              "      <th>target</th>\n",
              "    </tr>\n",
              "  </thead>\n",
              "  <tbody>\n",
              "    <tr>\n",
              "      <th>0</th>\n",
              "      <td>NEW YORK (Reuters) - Haitian immigrants on Tue...</td>\n",
              "      <td>1</td>\n",
              "    </tr>\n",
              "    <tr>\n",
              "      <th>1</th>\n",
              "      <td>Remember when Republicans were told to stop ta...</td>\n",
              "      <td>0</td>\n",
              "    </tr>\n",
              "    <tr>\n",
              "      <th>2</th>\n",
              "      <td>WASHINGTON (Reuters) - Republican Senator Rand...</td>\n",
              "      <td>1</td>\n",
              "    </tr>\n",
              "    <tr>\n",
              "      <th>3</th>\n",
              "      <td>Democratic National Committee Chairman Tom Per...</td>\n",
              "      <td>0</td>\n",
              "    </tr>\n",
              "    <tr>\n",
              "      <th>4</th>\n",
              "      <td>Republican Senator Rand Paul spoke with CNN s ...</td>\n",
              "      <td>0</td>\n",
              "    </tr>\n",
              "  </tbody>\n",
              "</table>\n",
              "</div>\n",
              "    <div class=\"colab-df-buttons\">\n",
              "\n",
              "  <div class=\"colab-df-container\">\n",
              "    <button class=\"colab-df-convert\" onclick=\"convertToInteractive('df-9be0fb3f-db11-4ac4-a094-d93caa8c9d6c')\"\n",
              "            title=\"Convert this dataframe to an interactive table.\"\n",
              "            style=\"display:none;\">\n",
              "\n",
              "  <svg xmlns=\"http://www.w3.org/2000/svg\" height=\"24px\" viewBox=\"0 -960 960 960\">\n",
              "    <path d=\"M120-120v-720h720v720H120Zm60-500h600v-160H180v160Zm220 220h160v-160H400v160Zm0 220h160v-160H400v160ZM180-400h160v-160H180v160Zm440 0h160v-160H620v160ZM180-180h160v-160H180v160Zm440 0h160v-160H620v160Z\"/>\n",
              "  </svg>\n",
              "    </button>\n",
              "\n",
              "  <style>\n",
              "    .colab-df-container {\n",
              "      display:flex;\n",
              "      gap: 12px;\n",
              "    }\n",
              "\n",
              "    .colab-df-convert {\n",
              "      background-color: #E8F0FE;\n",
              "      border: none;\n",
              "      border-radius: 50%;\n",
              "      cursor: pointer;\n",
              "      display: none;\n",
              "      fill: #1967D2;\n",
              "      height: 32px;\n",
              "      padding: 0 0 0 0;\n",
              "      width: 32px;\n",
              "    }\n",
              "\n",
              "    .colab-df-convert:hover {\n",
              "      background-color: #E2EBFA;\n",
              "      box-shadow: 0px 1px 2px rgba(60, 64, 67, 0.3), 0px 1px 3px 1px rgba(60, 64, 67, 0.15);\n",
              "      fill: #174EA6;\n",
              "    }\n",
              "\n",
              "    .colab-df-buttons div {\n",
              "      margin-bottom: 4px;\n",
              "    }\n",
              "\n",
              "    [theme=dark] .colab-df-convert {\n",
              "      background-color: #3B4455;\n",
              "      fill: #D2E3FC;\n",
              "    }\n",
              "\n",
              "    [theme=dark] .colab-df-convert:hover {\n",
              "      background-color: #434B5C;\n",
              "      box-shadow: 0px 1px 3px 1px rgba(0, 0, 0, 0.15);\n",
              "      filter: drop-shadow(0px 1px 2px rgba(0, 0, 0, 0.3));\n",
              "      fill: #FFFFFF;\n",
              "    }\n",
              "  </style>\n",
              "\n",
              "    <script>\n",
              "      const buttonEl =\n",
              "        document.querySelector('#df-9be0fb3f-db11-4ac4-a094-d93caa8c9d6c button.colab-df-convert');\n",
              "      buttonEl.style.display =\n",
              "        google.colab.kernel.accessAllowed ? 'block' : 'none';\n",
              "\n",
              "      async function convertToInteractive(key) {\n",
              "        const element = document.querySelector('#df-9be0fb3f-db11-4ac4-a094-d93caa8c9d6c');\n",
              "        const dataTable =\n",
              "          await google.colab.kernel.invokeFunction('convertToInteractive',\n",
              "                                                    [key], {});\n",
              "        if (!dataTable) return;\n",
              "\n",
              "        const docLinkHtml = 'Like what you see? Visit the ' +\n",
              "          '<a target=\"_blank\" href=https://colab.research.google.com/notebooks/data_table.ipynb>data table notebook</a>'\n",
              "          + ' to learn more about interactive tables.';\n",
              "        element.innerHTML = '';\n",
              "        dataTable['output_type'] = 'display_data';\n",
              "        await google.colab.output.renderOutput(dataTable, element);\n",
              "        const docLink = document.createElement('div');\n",
              "        docLink.innerHTML = docLinkHtml;\n",
              "        element.appendChild(docLink);\n",
              "      }\n",
              "    </script>\n",
              "  </div>\n",
              "\n",
              "\n",
              "<div id=\"df-27ce4f66-bcd0-4383-92b0-df1f49fc4c09\">\n",
              "  <button class=\"colab-df-quickchart\" onclick=\"quickchart('df-27ce4f66-bcd0-4383-92b0-df1f49fc4c09')\"\n",
              "            title=\"Suggest charts\"\n",
              "            style=\"display:none;\">\n",
              "\n",
              "<svg xmlns=\"http://www.w3.org/2000/svg\" height=\"24px\"viewBox=\"0 0 24 24\"\n",
              "     width=\"24px\">\n",
              "    <g>\n",
              "        <path d=\"M19 3H5c-1.1 0-2 .9-2 2v14c0 1.1.9 2 2 2h14c1.1 0 2-.9 2-2V5c0-1.1-.9-2-2-2zM9 17H7v-7h2v7zm4 0h-2V7h2v10zm4 0h-2v-4h2v4z\"/>\n",
              "    </g>\n",
              "</svg>\n",
              "  </button>\n",
              "\n",
              "<style>\n",
              "  .colab-df-quickchart {\n",
              "      --bg-color: #E8F0FE;\n",
              "      --fill-color: #1967D2;\n",
              "      --hover-bg-color: #E2EBFA;\n",
              "      --hover-fill-color: #174EA6;\n",
              "      --disabled-fill-color: #AAA;\n",
              "      --disabled-bg-color: #DDD;\n",
              "  }\n",
              "\n",
              "  [theme=dark] .colab-df-quickchart {\n",
              "      --bg-color: #3B4455;\n",
              "      --fill-color: #D2E3FC;\n",
              "      --hover-bg-color: #434B5C;\n",
              "      --hover-fill-color: #FFFFFF;\n",
              "      --disabled-bg-color: #3B4455;\n",
              "      --disabled-fill-color: #666;\n",
              "  }\n",
              "\n",
              "  .colab-df-quickchart {\n",
              "    background-color: var(--bg-color);\n",
              "    border: none;\n",
              "    border-radius: 50%;\n",
              "    cursor: pointer;\n",
              "    display: none;\n",
              "    fill: var(--fill-color);\n",
              "    height: 32px;\n",
              "    padding: 0;\n",
              "    width: 32px;\n",
              "  }\n",
              "\n",
              "  .colab-df-quickchart:hover {\n",
              "    background-color: var(--hover-bg-color);\n",
              "    box-shadow: 0 1px 2px rgba(60, 64, 67, 0.3), 0 1px 3px 1px rgba(60, 64, 67, 0.15);\n",
              "    fill: var(--button-hover-fill-color);\n",
              "  }\n",
              "\n",
              "  .colab-df-quickchart-complete:disabled,\n",
              "  .colab-df-quickchart-complete:disabled:hover {\n",
              "    background-color: var(--disabled-bg-color);\n",
              "    fill: var(--disabled-fill-color);\n",
              "    box-shadow: none;\n",
              "  }\n",
              "\n",
              "  .colab-df-spinner {\n",
              "    border: 2px solid var(--fill-color);\n",
              "    border-color: transparent;\n",
              "    border-bottom-color: var(--fill-color);\n",
              "    animation:\n",
              "      spin 1s steps(1) infinite;\n",
              "  }\n",
              "\n",
              "  @keyframes spin {\n",
              "    0% {\n",
              "      border-color: transparent;\n",
              "      border-bottom-color: var(--fill-color);\n",
              "      border-left-color: var(--fill-color);\n",
              "    }\n",
              "    20% {\n",
              "      border-color: transparent;\n",
              "      border-left-color: var(--fill-color);\n",
              "      border-top-color: var(--fill-color);\n",
              "    }\n",
              "    30% {\n",
              "      border-color: transparent;\n",
              "      border-left-color: var(--fill-color);\n",
              "      border-top-color: var(--fill-color);\n",
              "      border-right-color: var(--fill-color);\n",
              "    }\n",
              "    40% {\n",
              "      border-color: transparent;\n",
              "      border-right-color: var(--fill-color);\n",
              "      border-top-color: var(--fill-color);\n",
              "    }\n",
              "    60% {\n",
              "      border-color: transparent;\n",
              "      border-right-color: var(--fill-color);\n",
              "    }\n",
              "    80% {\n",
              "      border-color: transparent;\n",
              "      border-right-color: var(--fill-color);\n",
              "      border-bottom-color: var(--fill-color);\n",
              "    }\n",
              "    90% {\n",
              "      border-color: transparent;\n",
              "      border-bottom-color: var(--fill-color);\n",
              "    }\n",
              "  }\n",
              "</style>\n",
              "\n",
              "  <script>\n",
              "    async function quickchart(key) {\n",
              "      const quickchartButtonEl =\n",
              "        document.querySelector('#' + key + ' button');\n",
              "      quickchartButtonEl.disabled = true;  // To prevent multiple clicks.\n",
              "      quickchartButtonEl.classList.add('colab-df-spinner');\n",
              "      try {\n",
              "        const charts = await google.colab.kernel.invokeFunction(\n",
              "            'suggestCharts', [key], {});\n",
              "      } catch (error) {\n",
              "        console.error('Error during call to suggestCharts:', error);\n",
              "      }\n",
              "      quickchartButtonEl.classList.remove('colab-df-spinner');\n",
              "      quickchartButtonEl.classList.add('colab-df-quickchart-complete');\n",
              "    }\n",
              "    (() => {\n",
              "      let quickchartButtonEl =\n",
              "        document.querySelector('#df-27ce4f66-bcd0-4383-92b0-df1f49fc4c09 button');\n",
              "      quickchartButtonEl.style.display =\n",
              "        google.colab.kernel.accessAllowed ? 'block' : 'none';\n",
              "    })();\n",
              "  </script>\n",
              "</div>\n",
              "\n",
              "    </div>\n",
              "  </div>\n"
            ],
            "text/plain": [
              "                                                text  target\n",
              "0  NEW YORK (Reuters) - Haitian immigrants on Tue...       1\n",
              "1  Remember when Republicans were told to stop ta...       0\n",
              "2  WASHINGTON (Reuters) - Republican Senator Rand...       1\n",
              "3  Democratic National Committee Chairman Tom Per...       0\n",
              "4  Republican Senator Rand Paul spoke with CNN s ...       0"
            ]
          },
          "execution_count": 16,
          "metadata": {},
          "output_type": "execute_result"
        }
      ],
      "source": [
        "news = pd.concat([true_news, fake_news], ignore_index=True)\n",
        "news = news.sample(frac=1, random_state=42).reset_index(drop=True)\n",
        "news.head()"
      ]
    },
    {
      "cell_type": "code",
      "execution_count": 17,
      "id": "48695c44",
      "metadata": {
        "colab": {
          "base_uri": "https://localhost:8080/"
        },
        "execution": {
          "iopub.execute_input": "2024-05-05T13:21:34.069514Z",
          "iopub.status.busy": "2024-05-05T13:21:34.068804Z",
          "iopub.status.idle": "2024-05-05T13:21:34.080461Z",
          "shell.execute_reply": "2024-05-05T13:21:34.079073Z"
        },
        "id": "48695c44",
        "outputId": "83c74245-cbd3-4679-f71c-78e4905e4e90",
        "papermill": {
          "duration": 0.030975,
          "end_time": "2024-05-05T13:21:34.083612",
          "exception": false,
          "start_time": "2024-05-05T13:21:34.052637",
          "status": "completed"
        },
        "tags": []
      },
      "outputs": [
        {
          "data": {
            "text/plain": [
              "(array([0, 1]), array([2000, 2000]))"
            ]
          },
          "execution_count": 17,
          "metadata": {},
          "output_type": "execute_result"
        }
      ],
      "source": [
        "unics, counts = np.unique(news['target'], return_counts=True)\n",
        "unics, counts"
      ]
    },
    {
      "cell_type": "code",
      "execution_count": 18,
      "id": "a2708551",
      "metadata": {
        "execution": {
          "iopub.execute_input": "2024-05-05T13:21:34.115784Z",
          "iopub.status.busy": "2024-05-05T13:21:34.115266Z",
          "iopub.status.idle": "2024-05-05T13:21:35.637673Z",
          "shell.execute_reply": "2024-05-05T13:21:35.636259Z"
        },
        "id": "a2708551",
        "papermill": {
          "duration": 1.54274,
          "end_time": "2024-05-05T13:21:35.641341",
          "exception": false,
          "start_time": "2024-05-05T13:21:34.098601",
          "status": "completed"
        },
        "tags": []
      },
      "outputs": [],
      "source": [
        "nlp = sp.load(\"en_core_web_sm\")\n",
        "stop_words = sp.lang.en.STOP_WORDS"
      ]
    },
    {
      "cell_type": "code",
      "execution_count": 19,
      "id": "cf3d752b",
      "metadata": {
        "execution": {
          "iopub.execute_input": "2024-05-05T13:21:35.674535Z",
          "iopub.status.busy": "2024-05-05T13:21:35.673127Z",
          "iopub.status.idle": "2024-05-05T13:21:35.684104Z",
          "shell.execute_reply": "2024-05-05T13:21:35.682671Z"
        },
        "id": "cf3d752b",
        "papermill": {
          "duration": 0.030893,
          "end_time": "2024-05-05T13:21:35.687288",
          "exception": false,
          "start_time": "2024-05-05T13:21:35.656395",
          "status": "completed"
        },
        "tags": []
      },
      "outputs": [],
      "source": [
        "def preprocessing(text):\n",
        "    \"\"\"\n",
        "\n",
        "    Args:\n",
        "      text: texts (str type) with stop words, unwanted characters and punctuations\n",
        "\n",
        "    Returns:\n",
        "      clean texts without stop words and punctuation\n",
        "\n",
        "    \"\"\"\n",
        "    text = BeautifulSoup(text, \"lxml\").get_text()\n",
        "    text = re.sub(r\"http\\S+\", \"\", text)\n",
        "    text = re.sub(r\"@\\w+\", \"\", text)\n",
        "    text = re.sub(r\"[^a-zA-Z]\", \" \", text).strip()\n",
        "    text = re.sub(r\"  +\", \" \", text).strip()\n",
        "    text = text.lower()\n",
        "    doc = nlp(text)\n",
        "    words = [token.text for token in doc if not token.is_stop and token.text not in string.punctuation]\n",
        "    text = \" \".join(words)\n",
        "\n",
        "    return text"
      ]
    },
    {
      "cell_type": "code",
      "execution_count": 20,
      "id": "d5975b00",
      "metadata": {
        "colab": {
          "base_uri": "https://localhost:8080/",
          "height": 163
        },
        "execution": {
          "iopub.execute_input": "2024-05-05T13:21:35.718474Z",
          "iopub.status.busy": "2024-05-05T13:21:35.717994Z",
          "iopub.status.idle": "2024-05-05T13:21:35.726794Z",
          "shell.execute_reply": "2024-05-05T13:21:35.725397Z"
        },
        "id": "d5975b00",
        "outputId": "cbe9b233-63a5-4f0e-9dce-801ed7daafea",
        "papermill": {
          "duration": 0.02783,
          "end_time": "2024-05-05T13:21:35.729639",
          "exception": false,
          "start_time": "2024-05-05T13:21:35.701809",
          "status": "completed"
        },
        "tags": []
      },
      "outputs": [
        {
          "data": {
            "application/vnd.google.colaboratory.intrinsic+json": {
              "type": "string"
            },
            "text/plain": [
              "'Remember when Republicans were told to stop talking about rape because they were repeatedly sticking their foot in their mouths? Well, now they are being told to stop talking about their attempt to repeal the Affordable Care Act.Ever since Republicans giddily started preparing to repeal the landmark healthcare law, they faced a sea of angry constituents at town hall events across the country. As the GOP dug in their heels to strip healthcare from millions of Americans, their own voting base began to realize that their own healthcare was threatened as well and that the law they referred to as Obamacare wasn t so bad after all.In fact, many realize that the law saved their lives and they don t want Republicans to repeal it and put their lives back in jeopardy.But Republicans shoved their bill through the House without even reading it and getting the CBO to score it. The bill lets states opt out of requiring insurance companies to cover people with pre-existing conditions, which have now been defined as including sexual assault, pregnancy, cancer, acne, asthma, diabetes, sleep apnea, Alzheimer s disease, and a whole host of other conditions and medical problems, a list of which you can find here.This pretty much would allow insurance companies to discriminate against millions of Americans, conservatives included.The bill also slashed $880 billion from Medicaid, which covers millions of low-income Americans, in order to fund a tax gift for the wealthy. Again, millions of Americans, including conservatives in red states, got healthcare because the Affordable Care Act expanded Medicaid.Understandably, most Americans are pissed at Republicans, especially after House Republicans celebrated taking healthcare from people by throwing a beer party on Capitol Hill and smiling and laughing about it at the White House Rose Garden while Donald Trump spiked the football.And Americans have been flocking to town halls ever since to shame Republicans for their actions. Many Republicans have even been too cowardly to even attend their own town halls to face the music.Those who have shown up have only angered their constituents even more by lying about what s in the bill and making any lame excuse they can think of to justify stripping healthcare from millions.That s why a conservative consulting firm in now telling Republicans to stop talking about repealing the Affordable Care Act.According to Raw Story,In a memo issued this week by conservative firm WPA Intelligence, lawmakers were cautioned to avoid using the term  full repeal  because it is highly unpopular.So, it appears that Republicans may now go to their constituents and claim that their bill is only a partial repeal even though it is, in fact, a full repeal.Make no mistake, this consulting firm knows that Republicans are committing political suicide. That s why they warned them to stop talking so much about the healthcare repeal.But the damage has already been done and will get even worse if Republicans send the bill to Trump for his signature.The American people, including conservative voters, now know that Republicans were full of shit when they insisted that a full repeal was the only way to fix the Affordable Care Act. The fact is that these problems can be easily fixed if Republicans are willing to work with Democrats. Instead of admitting they were wrong, Republicans doubled down and now they get to experience the consequences in 2018 when a Democratic wave could very well sweep them out of power in Congress.Featured Image: Mark Wilson/Getty Images'"
            ]
          },
          "execution_count": 20,
          "metadata": {},
          "output_type": "execute_result"
        }
      ],
      "source": [
        "test = news[\"text\"][1]\n",
        "test"
      ]
    },
    {
      "cell_type": "code",
      "execution_count": 21,
      "id": "1504d8cf",
      "metadata": {
        "colab": {
          "base_uri": "https://localhost:8080/"
        },
        "execution": {
          "iopub.execute_input": "2024-05-05T13:21:35.761116Z",
          "iopub.status.busy": "2024-05-05T13:21:35.760483Z",
          "iopub.status.idle": "2024-05-05T13:21:35.943516Z",
          "shell.execute_reply": "2024-05-05T13:21:35.941988Z"
        },
        "id": "1504d8cf",
        "outputId": "133d0a7a-56e5-4383-b4f5-d800776cd36f",
        "papermill": {
          "duration": 0.202533,
          "end_time": "2024-05-05T13:21:35.946929",
          "exception": false,
          "start_time": "2024-05-05T13:21:35.744396",
          "status": "completed"
        },
        "tags": []
      },
      "outputs": [
        {
          "name": "stdout",
          "output_type": "stream",
          "text": [
            "remember republicans told stop talking rape repeatedly sticking foot mouths told stop talking attempt repeal affordable care act republicans giddily started preparing repeal landmark healthcare law faced sea angry constituents town hall events country gop dug heels strip healthcare millions americans voting base began realize healthcare threatened law referred obamacare wasn t bad fact realize law saved lives don t want republicans repeal lives jeopardy republicans shoved bill house reading getting cbo score bill lets states opt requiring insurance companies cover people pre existing conditions defined including sexual assault pregnancy cancer acne asthma diabetes sleep apnea alzheimer s disease host conditions medical problems list find pretty allow insurance companies discriminate millions americans conservatives included bill slashed billion medicaid covers millions low income americans order fund tax gift wealthy millions americans including conservatives red states got healthcare affordable care act expanded medicaid understandably americans pissed republicans especially house republicans celebrated taking healthcare people throwing beer party capitol hill smiling laughing white house rose garden donald trump spiked football americans flocking town halls shame republicans actions republicans cowardly attend town halls face music shown angered constituents lying s bill making lame excuse think justify stripping healthcare millions s conservative consulting firm telling republicans stop talking repealing affordable care act according raw story memo issued week conservative firm wpa intelligence lawmakers cautioned avoid term repeal highly unpopular appears republicans constituents claim bill partial repeal fact repeal mistake consulting firm knows republicans committing political suicide s warned stop talking healthcare repeal damage worse republicans send bill trump signature american people including conservative voters know republicans shit insisted repeal way fix affordable care act fact problems easily fixed republicans willing work democrats instead admitting wrong republicans doubled experience consequences democratic wave sweep power congress featured image mark wilson getty images\n"
          ]
        }
      ],
      "source": [
        "print(preprocessing(test))"
      ]
    },
    {
      "cell_type": "code",
      "execution_count": 22,
      "id": "cffc5058",
      "metadata": {
        "execution": {
          "iopub.execute_input": "2024-05-05T13:21:35.979267Z",
          "iopub.status.busy": "2024-05-05T13:21:35.978710Z",
          "iopub.status.idle": "2024-05-05T13:21:35.987670Z",
          "shell.execute_reply": "2024-05-05T13:21:35.986245Z"
        },
        "id": "cffc5058",
        "papermill": {
          "duration": 0.028471,
          "end_time": "2024-05-05T13:21:35.990551",
          "exception": false,
          "start_time": "2024-05-05T13:21:35.962080",
          "status": "completed"
        },
        "tags": []
      },
      "outputs": [],
      "source": [
        "sentences = list(news[\"text\"])\n",
        "labels = list(news[\"target\"])"
      ]
    },
    {
      "cell_type": "code",
      "execution_count": 23,
      "id": "a13b8520",
      "metadata": {
        "execution": {
          "iopub.execute_input": "2024-05-05T13:21:36.025824Z",
          "iopub.status.busy": "2024-05-05T13:21:36.025341Z",
          "iopub.status.idle": "2024-05-05T13:27:12.547001Z",
          "shell.execute_reply": "2024-05-05T13:27:12.545599Z"
        },
        "id": "a13b8520",
        "papermill": {
          "duration": 336.543167,
          "end_time": "2024-05-05T13:27:12.550782",
          "exception": false,
          "start_time": "2024-05-05T13:21:36.007615",
          "status": "completed"
        },
        "tags": []
      },
      "outputs": [],
      "source": [
        "sentences = [preprocessing(sentence) for sentence in sentences]"
      ]
    },
    {
      "cell_type": "code",
      "execution_count": 24,
      "id": "824ac2b3",
      "metadata": {
        "colab": {
          "base_uri": "https://localhost:8080/"
        },
        "execution": {
          "iopub.execute_input": "2024-05-05T13:27:12.583874Z",
          "iopub.status.busy": "2024-05-05T13:27:12.583338Z",
          "iopub.status.idle": "2024-05-05T13:27:12.591292Z",
          "shell.execute_reply": "2024-05-05T13:27:12.589806Z"
        },
        "id": "824ac2b3",
        "outputId": "b07c17b2-f5fc-49b8-fde2-a1f4b984fe2d",
        "papermill": {
          "duration": 0.029233,
          "end_time": "2024-05-05T13:27:12.595647",
          "exception": false,
          "start_time": "2024-05-05T13:27:12.566414",
          "status": "completed"
        },
        "tags": []
      },
      "outputs": [
        {
          "name": "stdout",
          "output_type": "stream",
          "text": [
            "washington reuters u s department homeland security s internal watchdog told reuters tuesday retire complained delay release report critical department s handling president donald trump s travel ban homeland security inspector general john roth nominated democratic president barack obama late said interview tuesday day thursday announced plans staff early week roth said decision step unrelated concerns raised seven page nov letter members congress revealed time findings office s inquiry u s customs border protection implemented trump s initial travel ban january letter roth said troubled senior department homeland security dhs leaders taken weeks decide parts report public given justice department decide redact sections internal deliberations page report released statement dhs spokesman said employees conducted professionally legal manner implementing travel ban roth said leaves inspector general office s deputy john v kelly temporarily president nominates permanent replacement good run roth said noting worked government reagan era time things coming awhile trump s travel ban january restricting u s entry people certain muslim majority countries target multiple legal challenges initial implementation led chaos airports united states january ban blocked federal courts trump later issued revised versions march september u s supreme court weighing let latest version effect partially blocked lower courts letter congress roth said office substantiate claims misconduct customs agents little warning ban took effect department violated court orders different instances roth told reuters heard updates wrote congress remain concerned said adding inspectors general told surprised dhs handling matter presidentially appointed inspectors general serve pleasure president typically step change administration roth worked government including prosecutor justice department recently head food drug administration s office criminal investigations\n",
            "washington reuters compromise republican tax bill released late friday eliminate electric vehicle tax credit republicans u s house representatives previously proposed measure follows lead senate version approved month eliminate credit killing credit hurt automakers like general motors co gm n volkswagen ag vowg p de tesla inc tsla o nissan motor co t consumers current law eligible tax credit defray cost plug electric vehicles electric vehicle tax credit starts phase manufacturer sells plug vehicles automaker hits point tax credit available months phasing consumers currently allowed credit vehicles manufacturer hits plug vehicles sold electric vehicles expensive batteries pricier gasoline powered vehicles electric drive transportation association said statement late friday pleased credit remain law credit supports innovation job creation helping drivers access advanced vehicle technology group said automakers companies groups released letter earlier week urging congress retain credit including ford motor co f n bmw ag bmwg de gm uber technologies inc president barack obama repeatedly proposed hiking tax credit electric vehicles converting point sale rebate congress approve measure automakers face mandates california dozen states produce rising number zero emission vehicles said credits essential meeting requirements\n"
          ]
        }
      ],
      "source": [
        "for _ in range(2):\n",
        "  print(sentences[random.randint(0, len(news) -1 )])"
      ]
    },
    {
      "cell_type": "code",
      "execution_count": 25,
      "id": "38f7b6e2",
      "metadata": {
        "execution": {
          "iopub.execute_input": "2024-05-05T13:27:12.628728Z",
          "iopub.status.busy": "2024-05-05T13:27:12.627912Z",
          "iopub.status.idle": "2024-05-05T13:27:12.704619Z",
          "shell.execute_reply": "2024-05-05T13:27:12.703093Z"
        },
        "id": "38f7b6e2",
        "papermill": {
          "duration": 0.097041,
          "end_time": "2024-05-05T13:27:12.708044",
          "exception": false,
          "start_time": "2024-05-05T13:27:12.611003",
          "status": "completed"
        },
        "tags": []
      },
      "outputs": [],
      "source": [
        "TRUNC='post'\n",
        "PADDING = 'post'\n",
        "OOV_TOKEN = \"<OOV>\"\n",
        "EMBEDDING = 120\n",
        "EPOCHS = 15\n",
        "TRAINING_SPLIT = 0.8\n",
        "maxlen = max([len(sentence.split()) for sentence in sentences])"
      ]
    },
    {
      "cell_type": "code",
      "execution_count": null,
      "id": "9175f503",
      "metadata": {
        "execution": {
          "iopub.execute_input": "2024-05-05T13:27:12.740941Z",
          "iopub.status.busy": "2024-05-05T13:27:12.740311Z",
          "iopub.status.idle": "2024-05-05T13:27:12.749340Z",
          "shell.execute_reply": "2024-05-05T13:27:12.747898Z"
        },
        "id": "9175f503",
        "papermill": {
          "duration": 0.02918,
          "end_time": "2024-05-05T13:27:12.752342",
          "exception": false,
          "start_time": "2024-05-05T13:27:12.723162",
          "status": "completed"
        },
        "tags": []
      },
      "outputs": [],
      "source": [
        "def train_val_split(sentences, labels, training_split):\n",
        "    \"\"\"\n",
        "    Splits the dataset into training and validation sets\n",
        "\n",
        "    Args:\n",
        "        sentences (list of string): lower-cased sentences without stopwords\n",
        "        labels (list of string): list of labels\n",
        "        training split (float): proportion of the dataset to convert to include in the train set\n",
        "\n",
        "    Returns:\n",
        "        train_sentences, validation_sentences, train_labels, validation_labels - lists containing the data splits\n",
        "    \"\"\"\n",
        "\n",
        "    train_size = int(len(sentences) * training_split)\n",
        "\n",
        "    train_sentences = sentences[:train_size]\n",
        "    train_labels = labels[:train_size]\n",
        "\n",
        "    validation_sentences = sentences[train_size:]\n",
        "    validation_labels = labels[train_size:]\n",
        "\n",
        "    return train_sentences, validation_sentences, train_labels, validation_labels"
      ]
    },
    {
      "cell_type": "code",
      "execution_count": 27,
      "id": "0bd6829c",
      "metadata": {
        "colab": {
          "base_uri": "https://localhost:8080/"
        },
        "execution": {
          "iopub.execute_input": "2024-05-05T13:27:12.785682Z",
          "iopub.status.busy": "2024-05-05T13:27:12.785179Z",
          "iopub.status.idle": "2024-05-05T13:27:12.794442Z",
          "shell.execute_reply": "2024-05-05T13:27:12.792902Z"
        },
        "id": "0bd6829c",
        "outputId": "6d960800-0f68-461a-96c6-7a6550a6bfe2",
        "papermill": {
          "duration": 0.030033,
          "end_time": "2024-05-05T13:27:12.797638",
          "exception": false,
          "start_time": "2024-05-05T13:27:12.767605",
          "status": "completed"
        },
        "tags": []
      },
      "outputs": [
        {
          "name": "stdout",
          "output_type": "stream",
          "text": [
            "There are 3200 sentences for training.\n",
            "\n",
            "There are 3200 labels for training.\n",
            "\n",
            "There are 800 sentences for validation.\n",
            "\n",
            "There are 800 labels for validation.\n"
          ]
        }
      ],
      "source": [
        "train_news, val_news, train_labels, val_labels = train_val_split(sentences, labels, TRAINING_SPLIT)\n",
        "\n",
        "print(f\"There are {len(train_news)} sentences for training.\\n\")\n",
        "print(f\"There are {len(train_labels)} labels for training.\\n\")\n",
        "print(f\"There are {len(val_news)} sentences for validation.\\n\")\n",
        "print(f\"There are {len(val_labels)} labels for validation.\")"
      ]
    },
    {
      "cell_type": "code",
      "execution_count": null,
      "id": "1112632c",
      "metadata": {
        "execution": {
          "iopub.execute_input": "2024-05-05T13:27:12.830727Z",
          "iopub.status.busy": "2024-05-05T13:27:12.830205Z",
          "iopub.status.idle": "2024-05-05T13:27:12.839012Z",
          "shell.execute_reply": "2024-05-05T13:27:12.837027Z"
        },
        "id": "1112632c",
        "papermill": {
          "duration": 0.028791,
          "end_time": "2024-05-05T13:27:12.841768",
          "exception": false,
          "start_time": "2024-05-05T13:27:12.812977",
          "status": "completed"
        },
        "tags": []
      },
      "outputs": [],
      "source": [
        "def fit_tokenizer(train_sentences, oov_token):\n",
        "    \"\"\"\n",
        "    Instantiates the Tokenizer class on the training sentences\n",
        "\n",
        "    Args:\n",
        "        train_sentences (list of string): lower-cased sentences without stopwords to be used for training\n",
        "        oov_token (string) - symbol for the out-of-vocabulary token\n",
        "\n",
        "    Returns:\n",
        "        tokenizer (object): an instance of the Tokenizer class containing the word-index dictionary\n",
        "    \"\"\"\n",
        "\n",
        "    tokenizer = Tokenizer(oov_token=oov_token)\n",
        "\n",
        "    tokenizer.fit_on_texts(train_sentences)\n",
        "\n",
        "    return tokenizer"
      ]
    },
    {
      "cell_type": "code",
      "execution_count": 29,
      "id": "0dd8a174",
      "metadata": {
        "execution": {
          "iopub.execute_input": "2024-05-05T13:27:12.875031Z",
          "iopub.status.busy": "2024-05-05T13:27:12.874524Z",
          "iopub.status.idle": "2024-05-05T13:27:13.962763Z",
          "shell.execute_reply": "2024-05-05T13:27:13.961527Z"
        },
        "id": "0dd8a174",
        "papermill": {
          "duration": 1.108728,
          "end_time": "2024-05-05T13:27:13.965843",
          "exception": false,
          "start_time": "2024-05-05T13:27:12.857115",
          "status": "completed"
        },
        "tags": []
      },
      "outputs": [],
      "source": [
        "tokenizer = fit_tokenizer(sentences, OOV_TOKEN)\n",
        "word_index = tokenizer.word_index\n",
        "VOCAB_SIZE = len(word_index)"
      ]
    },
    {
      "cell_type": "code",
      "execution_count": null,
      "id": "3fc30d88",
      "metadata": {
        "execution": {
          "iopub.execute_input": "2024-05-05T13:27:14.000516Z",
          "iopub.status.busy": "2024-05-05T13:27:13.999923Z",
          "iopub.status.idle": "2024-05-05T13:27:14.008499Z",
          "shell.execute_reply": "2024-05-05T13:27:14.006936Z"
        },
        "id": "3fc30d88",
        "papermill": {
          "duration": 0.029627,
          "end_time": "2024-05-05T13:27:14.011356",
          "exception": false,
          "start_time": "2024-05-05T13:27:13.981729",
          "status": "completed"
        },
        "tags": []
      },
      "outputs": [],
      "source": [
        "def seq_pad_and_trunc(sentences, tokenizer, padding, truncating, maxlen):\n",
        "    \"\"\"\n",
        "    Generates an array of token sequences and pads them to the same length\n",
        "\n",
        "    Args:\n",
        "        sentences (list of string): list of sentences to tokenize and pad\n",
        "        tokenizer (object): Tokenizer instance containing the word-index dictionary\n",
        "        padding (string): type of padding to use\n",
        "        truncating (string): type of truncating to use\n",
        "        maxlen (int): maximum length of the token sequence\n",
        "\n",
        "    Returns:\n",
        "        pad_trunc_sequences (array of int): tokenized sentences padded to the same length\n",
        "    \"\"\"\n",
        "    sequences = tokenizer.texts_to_sequences(sentences)\n",
        "    pad_trunc_sequences = pad_sequences(sequences, padding=padding, truncating=truncating, maxlen=maxlen)\n",
        "\n",
        "    return pad_trunc_sequences"
      ]
    },
    {
      "cell_type": "code",
      "execution_count": 31,
      "id": "ec28575f",
      "metadata": {
        "colab": {
          "base_uri": "https://localhost:8080/"
        },
        "execution": {
          "iopub.execute_input": "2024-05-05T13:27:14.044783Z",
          "iopub.status.busy": "2024-05-05T13:27:14.044244Z",
          "iopub.status.idle": "2024-05-05T13:27:14.837425Z",
          "shell.execute_reply": "2024-05-05T13:27:14.835631Z"
        },
        "id": "ec28575f",
        "outputId": "c6d7256d-f690-48a7-98b7-ff6bc4f6b7b6",
        "papermill": {
          "duration": 0.814009,
          "end_time": "2024-05-05T13:27:14.840739",
          "exception": false,
          "start_time": "2024-05-05T13:27:14.026730",
          "status": "completed"
        },
        "tags": []
      },
      "outputs": [
        {
          "name": "stdout",
          "output_type": "stream",
          "text": [
            "Padded and truncated training sequences have shape: (3200, 791)\n",
            "\n",
            "Padded and truncated validation sequences have shape: (800, 791)\n"
          ]
        }
      ],
      "source": [
        "train_pad_trunc_seq = seq_pad_and_trunc(train_news, tokenizer, PADDING, TRUNC, maxlen)\n",
        "val_pad_trunc_seq = seq_pad_and_trunc(val_news, tokenizer, PADDING, TRUNC, maxlen)\n",
        "\n",
        "print(f\"Padded and truncated training sequences have shape: {train_pad_trunc_seq.shape}\\n\")\n",
        "print(f\"Padded and truncated validation sequences have shape: {val_pad_trunc_seq.shape}\")"
      ]
    },
    {
      "cell_type": "code",
      "execution_count": 32,
      "id": "e2a3be25",
      "metadata": {
        "execution": {
          "iopub.execute_input": "2024-05-05T13:27:14.873636Z",
          "iopub.status.busy": "2024-05-05T13:27:14.873139Z",
          "iopub.status.idle": "2024-05-05T13:27:14.879929Z",
          "shell.execute_reply": "2024-05-05T13:27:14.878500Z"
        },
        "id": "e2a3be25",
        "papermill": {
          "duration": 0.0272,
          "end_time": "2024-05-05T13:27:14.883074",
          "exception": false,
          "start_time": "2024-05-05T13:27:14.855874",
          "status": "completed"
        },
        "tags": []
      },
      "outputs": [],
      "source": [
        "train_labels = np.array(train_labels)\n",
        "val_labels = np.array(val_labels)"
      ]
    },
    {
      "cell_type": "code",
      "execution_count": null,
      "id": "f6469e5e",
      "metadata": {
        "execution": {
          "iopub.execute_input": "2024-05-05T13:27:14.916608Z",
          "iopub.status.busy": "2024-05-05T13:27:14.916091Z",
          "iopub.status.idle": "2024-05-05T13:27:14.924238Z",
          "shell.execute_reply": "2024-05-05T13:27:14.922825Z"
        },
        "id": "f6469e5e",
        "papermill": {
          "duration": 0.028454,
          "end_time": "2024-05-05T13:27:14.927156",
          "exception": false,
          "start_time": "2024-05-05T13:27:14.898702",
          "status": "completed"
        },
        "tags": []
      },
      "outputs": [],
      "source": [
        "class myCallback(tf.keras.callbacks.Callback):\n",
        "        def on_epoch_end(self, epoch, logs={}):\n",
        "            if logs.get('val_accuracy') is not None and logs.get('val_accuracy') >= 0.99:\n",
        "                print(\"\\nReached 99% val_accuracy so cancelling training!\")\n",
        "                self.model.stop_training = True"
      ]
    },
    {
      "cell_type": "code",
      "execution_count": 34,
      "id": "03c13946",
      "metadata": {
        "execution": {
          "iopub.execute_input": "2024-05-05T13:27:14.960843Z",
          "iopub.status.busy": "2024-05-05T13:27:14.960349Z",
          "iopub.status.idle": "2024-05-05T13:27:14.970559Z",
          "shell.execute_reply": "2024-05-05T13:27:14.969189Z"
        },
        "id": "03c13946",
        "papermill": {
          "duration": 0.030571,
          "end_time": "2024-05-05T13:27:14.973225",
          "exception": false,
          "start_time": "2024-05-05T13:27:14.942654",
          "status": "completed"
        },
        "tags": []
      },
      "outputs": [],
      "source": [
        "def create_model(vocab_size, embedding_dim, maxlen):\n",
        "    \"\"\"\n",
        "    Creates a binary sentiment classifier model\n",
        "\n",
        "    Args:\n",
        "        vocab_size (int): size of the vocabulary for the Embedding layer input\n",
        "        embedding_dim (int): dimensionality of the Embedding layer output\n",
        "        maxlen (int): length of the input sequences\n",
        "    Returns:\n",
        "        model (tf.keras Model): the sentiment classifier model\n",
        "    \"\"\"\n",
        "    model = tf.keras.Sequential([\n",
        "        tf.keras.layers.Embedding(vocab_size+1, embedding_dim, input_length=maxlen),\n",
        "        tf.keras.layers.GlobalAveragePooling1D(),\n",
        "        tf.keras.layers.Dense(64, activation='relu'),\n",
        "        tf.keras.layers.Dropout(0.4),\n",
        "        tf.keras.layers.Dense(64, activation='relu'),\n",
        "        tf.keras.layers.Dense(1, activation='sigmoid')\n",
        "    ])\n",
        "\n",
        "    model.compile(loss='binary_crossentropy',\n",
        "                  optimizer='adam',\n",
        "                  metrics=['accuracy'])\n",
        "\n",
        "    return model"
      ]
    },
    {
      "cell_type": "code",
      "execution_count": null,
      "id": "23b85610",
      "metadata": {
        "colab": {
          "base_uri": "https://localhost:8080/"
        },
        "execution": {
          "iopub.execute_input": "2024-05-05T13:27:15.006396Z",
          "iopub.status.busy": "2024-05-05T13:27:15.005883Z",
          "iopub.status.idle": "2024-05-05T13:27:44.952656Z",
          "shell.execute_reply": "2024-05-05T13:27:44.951036Z"
        },
        "id": "23b85610",
        "outputId": "0caebc71-b559-481f-af25-eb7ce9971c3d",
        "papermill": {
          "duration": 29.967722,
          "end_time": "2024-05-05T13:27:44.956175",
          "exception": false,
          "start_time": "2024-05-05T13:27:14.988453",
          "status": "completed"
        },
        "tags": []
      },
      "outputs": [
        {
          "name": "stdout",
          "output_type": "stream",
          "text": [
            "Epoch 1/15\n"
          ]
        },
        {
          "name": "stderr",
          "output_type": "stream",
          "text": [
            "/usr/local/lib/python3.11/dist-packages/keras/src/layers/core/embedding.py:90: UserWarning: Argument `input_length` is deprecated. Just remove it.\n",
            "  warnings.warn(\n"
          ]
        },
        {
          "name": "stdout",
          "output_type": "stream",
          "text": [
            "\u001b[1m100/100\u001b[0m \u001b[32m━━━━━━━━━━━━━━━━━━━━\u001b[0m\u001b[37m\u001b[0m \u001b[1m8s\u001b[0m 52ms/step - accuracy: 0.5260 - loss: 0.6940 - val_accuracy: 0.4888 - val_loss: 0.6784\n",
            "Epoch 2/15\n",
            "\u001b[1m100/100\u001b[0m \u001b[32m━━━━━━━━━━━━━━━━━━━━\u001b[0m\u001b[37m\u001b[0m \u001b[1m5s\u001b[0m 52ms/step - accuracy: 0.6359 - loss: 0.6393 - val_accuracy: 0.9825 - val_loss: 0.2335\n",
            "Epoch 3/15\n",
            "\u001b[1m100/100\u001b[0m \u001b[32m━━━━━━━━━━━━━━━━━━━━\u001b[0m\u001b[37m\u001b[0m \u001b[1m6s\u001b[0m 58ms/step - accuracy: 0.8993 - loss: 0.2510 - val_accuracy: 0.9388 - val_loss: 0.1451\n",
            "Epoch 4/15\n",
            "\u001b[1m 99/100\u001b[0m \u001b[32m━━━━━━━━━━━━━━━━━━━\u001b[0m\u001b[37m━\u001b[0m \u001b[1m0s\u001b[0m 58ms/step - accuracy: 0.9228 - loss: 0.1781\n",
            "Reached 99% val_accuracy so cancelling training!\n",
            "\u001b[1m100/100\u001b[0m \u001b[32m━━━━━━━━━━━━━━━━━━━━\u001b[0m\u001b[37m\u001b[0m \u001b[1m11s\u001b[0m 61ms/step - accuracy: 0.9226 - loss: 0.1787 - val_accuracy: 0.9912 - val_loss: 0.0503\n"
          ]
        }
      ],
      "source": [
        "model = create_model(VOCAB_SIZE, EMBEDDING, maxlen)\n",
        "callbacks = myCallback()\n",
        "\n",
        "history = model.fit(\n",
        "    train_pad_trunc_seq, train_labels, epochs=EPOCHS,\n",
        "    validation_data=(val_pad_trunc_seq, val_labels),\n",
        "    callbacks=[callbacks]\n",
        "    )"
      ]
    },
    {
      "cell_type": "code",
      "execution_count": 36,
      "id": "fe36515b",
      "metadata": {
        "colab": {
          "base_uri": "https://localhost:8080/",
          "height": 927
        },
        "execution": {
          "iopub.execute_input": "2024-05-05T13:27:45.162200Z",
          "iopub.status.busy": "2024-05-05T13:27:45.161024Z",
          "iopub.status.idle": "2024-05-05T13:27:45.896295Z",
          "shell.execute_reply": "2024-05-05T13:27:45.894935Z"
        },
        "id": "fe36515b",
        "outputId": "2d982c2c-50b4-4c3b-96e8-7f0b5d26bcc9",
        "papermill": {
          "duration": 0.893852,
          "end_time": "2024-05-05T13:27:45.899833",
          "exception": false,
          "start_time": "2024-05-05T13:27:45.005981",
          "status": "completed"
        },
        "tags": []
      },
      "outputs": [
        {
          "data": {
            "image/png": "[encoded data removed]",
            "text/plain": [
              "<Figure size 640x480 with 1 Axes>"
            ]
          },
          "metadata": {},
          "output_type": "display_data"
        },
        {
          "data": {
            "image/png": "[encoded data removed]",
            "text/plain": [
              "<Figure size 640x480 with 1 Axes>"
            ]
          },
          "metadata": {},
          "output_type": "display_data"
        }
      ],
      "source": [
        "acc = history.history['accuracy']\n",
        "val_acc = history.history['val_accuracy']\n",
        "loss = history.history['loss']\n",
        "val_loss = history.history['val_loss']\n",
        "\n",
        "plt.plot(acc)\n",
        "plt.plot(val_acc)\n",
        "plt.title('Training and validation accuracy')\n",
        "plt.xlabel('Epoch')\n",
        "plt.ylabel('Accuracy')\n",
        "plt.legend(['Training', 'Validation'], loc='lower right')\n",
        "plt.show()\n",
        "\n",
        "plt.plot(loss)\n",
        "plt.plot(val_loss)\n",
        "plt.title('Training and validation loss')\n",
        "plt.xlabel('Epoch')\n",
        "plt.ylabel('Loss')\n",
        "plt.legend(['Training', 'Validation'], loc='upper right')\n",
        "plt.show()"
      ]
    }
  ],
  "metadata": {
    "colab": {
      "provenance": []
    },
    "kaggle": {
      "accelerator": "none",
      "dataSources": [
        {
          "datasetId": 4831777,
          "sourceId": 8165591,
          "sourceType": "datasetVersion"
        }
      ],
      "dockerImageVersionId": 30698,
      "isGpuEnabled": false,
      "isInternetEnabled": true,
      "language": "python",
      "sourceType": "notebook"
    },
    "kernelspec": {
      "display_name": "Python 3",
      "language": "python",
      "name": "python3"
    },
    "language_info": {
      "codemirror_mode": {
        "name": "ipython",
        "version": 3
      },
      "file_extension": ".py",
      "mimetype": "text/x-python",
      "name": "python",
      "nbconvert_exporter": "python",
      "pygments_lexer": "ipython3",
      "version": "3.10.13"
    },
    "papermill": {
      "default_parameters": {},
      "duration": 410.672607,
      "end_time": "2024-05-05T13:27:49.160800",
      "environment_variables": {},
      "exception": null,
      "input_path": "__notebook__.ipynb",
      "output_path": "__notebook__.ipynb",
      "parameters": {},
      "start_time": "2024-05-05T13:20:58.488193",
      "version": "2.5.0"
    }
  },
  "nbformat": 4,
  "nbformat_minor": 5
}
